{
  "cells": [
    {
      "cell_type": "code",
      "execution_count": 1,
      "id": "32668bab",
      "metadata": {
        "colab": {
          "base_uri": "https://localhost:8080/"
        },
        "id": "32668bab",
        "outputId": "b16840d8-dad2-400f-d4b1-43385619ec64"
      },
      "outputs": [
        {
          "output_type": "stream",
          "name": "stderr",
          "text": [
            "[nltk_data] Downloading package stopwords to /root/nltk_data...\n",
            "[nltk_data]   Package stopwords is already up-to-date!\n",
            "[nltk_data] Downloading package wordnet to /root/nltk_data...\n",
            "[nltk_data]   Package wordnet is already up-to-date!\n",
            "[nltk_data] Downloading package punkt to /root/nltk_data...\n",
            "[nltk_data]   Package punkt is already up-to-date!\n"
          ]
        }
      ],
      "source": [
        "# Importing necessary libraries for data analysis and visualization\n",
        "import os\n",
        "from tqdm import tqdm\n",
        "import pandas as pd\n",
        "import numpy as np\n",
        "import matplotlib.pyplot as plt\n",
        "import seaborn as sns\n",
        "import plotly.express as px\n",
        "from plotly.offline import init_notebook_mode\n",
        "\n",
        "%matplotlib inline\n",
        "\n",
        "# Importing necessary libraries for text preprocessing\n",
        "import re\n",
        "import nltk\n",
        "from nltk.corpus import stopwords\n",
        "nltk.download('stopwords')\n",
        "from nltk.stem import PorterStemmer\n",
        "from nltk.stem import WordNetLemmatizer\n",
        "nltk.download('wordnet')\n",
        "from nltk.tokenize import word_tokenize\n",
        "from nltk.tokenize import sent_tokenize\n",
        "nltk.download('punkt')\n",
        "\n",
        "# Importing libraries for creating wordclouds and resampling imbalanced datasets\n",
        "from wordcloud import WordCloud, STOPWORDS, ImageColorGenerator\n",
        "from imblearn.over_sampling import RandomOverSampler"
      ]
    },
    {
      "cell_type": "code",
      "execution_count": 2,
      "id": "f9f41eb7",
      "metadata": {
        "id": "f9f41eb7"
      },
      "outputs": [],
      "source": [
        "# Importing Libraries for Feature Extraction and Model Training\n",
        "\n",
        "from sklearn.feature_extraction.text import CountVectorizer\n",
        "from sklearn.feature_extraction.text import TfidfVectorizer\n",
        "\n",
        "from imblearn.over_sampling import RandomOverSampler\n",
        "from sklearn.model_selection import train_test_split\n",
        "\n",
        "from sklearn.naive_bayes import MultinomialNB\n",
        "from sklearn.linear_model import LogisticRegression\n",
        "from sklearn.ensemble import RandomForestClassifier\n",
        "\n",
        "from sklearn.metrics import accuracy_score\n",
        "from sklearn.metrics import precision_score\n",
        "from sklearn.metrics import recall_score\n",
        "from sklearn.metrics import confusion_matrix\n"
      ]
    },
    {
      "cell_type": "code",
      "source": [
        "# Mount the Google Drive\n",
        "from google.colab import drive\n",
        "drive.mount('/content/drive')\n",
        "\n",
        "# Read the CSV file from the drive\n",
        "dataset = pd.read_excel('/content/drive/MyDrive/Data Folder/1000 leads.xlsx')\n",
        "\n",
        "# Print the first few rows of the DataFrame\n",
        "dataset.head()\n"
      ],
      "metadata": {
        "colab": {
          "base_uri": "https://localhost:8080/",
          "height": 224
        },
        "id": "9w76pvXtEuJm",
        "outputId": "a5394050-8dd1-4958-bf51-e022d8521649"
      },
      "id": "9w76pvXtEuJm",
      "execution_count": 3,
      "outputs": [
        {
          "output_type": "stream",
          "name": "stdout",
          "text": [
            "Drive already mounted at /content/drive; to attempt to forcibly remount, call drive.mount(\"/content/drive\", force_remount=True).\n"
          ]
        },
        {
          "output_type": "execute_result",
          "data": {
            "text/plain": [
              "       Lead Name   Location         Status  \\\n",
              "0           Raja  hyderabad  Not Converted   \n",
              "1  Anirudh Reddy       pune  Not Converted   \n",
              "2   Sapna Dewani  bangalore     Converted    \n",
              "3         suresh     mumbai  Not Converted   \n",
              "4  Akshay Shinde  hyderabad  Not Converted   \n",
              "\n",
              "                                  Status information  \n",
              "0  14/8/prema: share me details, available in evn...  \n",
              "1  14/8/prema: cal me tmrw, shared details to ema...  \n",
              "2                                   16|AuG|moHan:rnr  \n",
              "3  14/8/17(Surendra):i want only Server 16|AuG|mo...  \n",
              "4  14/8/prema:rnr 16/8/prema: gave info, he said ...  "
            ],
            "text/html": [
              "\n",
              "  <div id=\"df-8ad5d894-d544-4072-ba02-d7dba0ffb63a\">\n",
              "    <div class=\"colab-df-container\">\n",
              "      <div>\n",
              "<style scoped>\n",
              "    .dataframe tbody tr th:only-of-type {\n",
              "        vertical-align: middle;\n",
              "    }\n",
              "\n",
              "    .dataframe tbody tr th {\n",
              "        vertical-align: top;\n",
              "    }\n",
              "\n",
              "    .dataframe thead th {\n",
              "        text-align: right;\n",
              "    }\n",
              "</style>\n",
              "<table border=\"1\" class=\"dataframe\">\n",
              "  <thead>\n",
              "    <tr style=\"text-align: right;\">\n",
              "      <th></th>\n",
              "      <th>Lead Name</th>\n",
              "      <th>Location</th>\n",
              "      <th>Status</th>\n",
              "      <th>Status information</th>\n",
              "    </tr>\n",
              "  </thead>\n",
              "  <tbody>\n",
              "    <tr>\n",
              "      <th>0</th>\n",
              "      <td>Raja</td>\n",
              "      <td>hyderabad</td>\n",
              "      <td>Not Converted</td>\n",
              "      <td>14/8/prema: share me details, available in evn...</td>\n",
              "    </tr>\n",
              "    <tr>\n",
              "      <th>1</th>\n",
              "      <td>Anirudh Reddy</td>\n",
              "      <td>pune</td>\n",
              "      <td>Not Converted</td>\n",
              "      <td>14/8/prema: cal me tmrw, shared details to ema...</td>\n",
              "    </tr>\n",
              "    <tr>\n",
              "      <th>2</th>\n",
              "      <td>Sapna Dewani</td>\n",
              "      <td>bangalore</td>\n",
              "      <td>Converted</td>\n",
              "      <td>16|AuG|moHan:rnr</td>\n",
              "    </tr>\n",
              "    <tr>\n",
              "      <th>3</th>\n",
              "      <td>suresh</td>\n",
              "      <td>mumbai</td>\n",
              "      <td>Not Converted</td>\n",
              "      <td>14/8/17(Surendra):i want only Server 16|AuG|mo...</td>\n",
              "    </tr>\n",
              "    <tr>\n",
              "      <th>4</th>\n",
              "      <td>Akshay Shinde</td>\n",
              "      <td>hyderabad</td>\n",
              "      <td>Not Converted</td>\n",
              "      <td>14/8/prema:rnr 16/8/prema: gave info, he said ...</td>\n",
              "    </tr>\n",
              "  </tbody>\n",
              "</table>\n",
              "</div>\n",
              "      <button class=\"colab-df-convert\" onclick=\"convertToInteractive('df-8ad5d894-d544-4072-ba02-d7dba0ffb63a')\"\n",
              "              title=\"Convert this dataframe to an interactive table.\"\n",
              "              style=\"display:none;\">\n",
              "        \n",
              "  <svg xmlns=\"http://www.w3.org/2000/svg\" height=\"24px\"viewBox=\"0 0 24 24\"\n",
              "       width=\"24px\">\n",
              "    <path d=\"M0 0h24v24H0V0z\" fill=\"none\"/>\n",
              "    <path d=\"M18.56 5.44l.94 2.06.94-2.06 2.06-.94-2.06-.94-.94-2.06-.94 2.06-2.06.94zm-11 1L8.5 8.5l.94-2.06 2.06-.94-2.06-.94L8.5 2.5l-.94 2.06-2.06.94zm10 10l.94 2.06.94-2.06 2.06-.94-2.06-.94-.94-2.06-.94 2.06-2.06.94z\"/><path d=\"M17.41 7.96l-1.37-1.37c-.4-.4-.92-.59-1.43-.59-.52 0-1.04.2-1.43.59L10.3 9.45l-7.72 7.72c-.78.78-.78 2.05 0 2.83L4 21.41c.39.39.9.59 1.41.59.51 0 1.02-.2 1.41-.59l7.78-7.78 2.81-2.81c.8-.78.8-2.07 0-2.86zM5.41 20L4 18.59l7.72-7.72 1.47 1.35L5.41 20z\"/>\n",
              "  </svg>\n",
              "      </button>\n",
              "      \n",
              "  <style>\n",
              "    .colab-df-container {\n",
              "      display:flex;\n",
              "      flex-wrap:wrap;\n",
              "      gap: 12px;\n",
              "    }\n",
              "\n",
              "    .colab-df-convert {\n",
              "      background-color: #E8F0FE;\n",
              "      border: none;\n",
              "      border-radius: 50%;\n",
              "      cursor: pointer;\n",
              "      display: none;\n",
              "      fill: #1967D2;\n",
              "      height: 32px;\n",
              "      padding: 0 0 0 0;\n",
              "      width: 32px;\n",
              "    }\n",
              "\n",
              "    .colab-df-convert:hover {\n",
              "      background-color: #E2EBFA;\n",
              "      box-shadow: 0px 1px 2px rgba(60, 64, 67, 0.3), 0px 1px 3px 1px rgba(60, 64, 67, 0.15);\n",
              "      fill: #174EA6;\n",
              "    }\n",
              "\n",
              "    [theme=dark] .colab-df-convert {\n",
              "      background-color: #3B4455;\n",
              "      fill: #D2E3FC;\n",
              "    }\n",
              "\n",
              "    [theme=dark] .colab-df-convert:hover {\n",
              "      background-color: #434B5C;\n",
              "      box-shadow: 0px 1px 3px 1px rgba(0, 0, 0, 0.15);\n",
              "      filter: drop-shadow(0px 1px 2px rgba(0, 0, 0, 0.3));\n",
              "      fill: #FFFFFF;\n",
              "    }\n",
              "  </style>\n",
              "\n",
              "      <script>\n",
              "        const buttonEl =\n",
              "          document.querySelector('#df-8ad5d894-d544-4072-ba02-d7dba0ffb63a button.colab-df-convert');\n",
              "        buttonEl.style.display =\n",
              "          google.colab.kernel.accessAllowed ? 'block' : 'none';\n",
              "\n",
              "        async function convertToInteractive(key) {\n",
              "          const element = document.querySelector('#df-8ad5d894-d544-4072-ba02-d7dba0ffb63a');\n",
              "          const dataTable =\n",
              "            await google.colab.kernel.invokeFunction('convertToInteractive',\n",
              "                                                     [key], {});\n",
              "          if (!dataTable) return;\n",
              "\n",
              "          const docLinkHtml = 'Like what you see? Visit the ' +\n",
              "            '<a target=\"_blank\" href=https://colab.research.google.com/notebooks/data_table.ipynb>data table notebook</a>'\n",
              "            + ' to learn more about interactive tables.';\n",
              "          element.innerHTML = '';\n",
              "          dataTable['output_type'] = 'display_data';\n",
              "          await google.colab.output.renderOutput(dataTable, element);\n",
              "          const docLink = document.createElement('div');\n",
              "          docLink.innerHTML = docLinkHtml;\n",
              "          element.appendChild(docLink);\n",
              "        }\n",
              "      </script>\n",
              "    </div>\n",
              "  </div>\n",
              "  "
            ]
          },
          "metadata": {},
          "execution_count": 3
        }
      ]
    },
    {
      "cell_type": "code",
      "execution_count": 4,
      "id": "53ae4df6",
      "metadata": {
        "id": "53ae4df6"
      },
      "outputs": [],
      "source": [
        "#dataset = pd.read_excel(\"1000 leads.xlsx\")"
      ]
    },
    {
      "cell_type": "code",
      "execution_count": 5,
      "id": "afb6d44e",
      "metadata": {
        "colab": {
          "base_uri": "https://localhost:8080/",
          "height": 390
        },
        "id": "afb6d44e",
        "outputId": "7cfab33d-6321-4837-95c6-fe386df8d6a9"
      },
      "outputs": [
        {
          "output_type": "execute_result",
          "data": {
            "text/plain": [
              "                                                                 0     \\\n",
              "Lead Name                                                        Raja   \n",
              "Location                                                    hyderabad   \n",
              "Status                                                  Not Converted   \n",
              "Status information  14/8/prema: share me details, available in evn...   \n",
              "\n",
              "                                                                 1     \\\n",
              "Lead Name                                               Anirudh Reddy   \n",
              "Location                                                         pune   \n",
              "Status                                                  Not Converted   \n",
              "Status information  14/8/prema: cal me tmrw, shared details to ema...   \n",
              "\n",
              "                                2     \\\n",
              "Lead Name               Sapna Dewani   \n",
              "Location                   bangalore   \n",
              "Status                    Converted    \n",
              "Status information  16|AuG|moHan:rnr   \n",
              "\n",
              "                                                                 3     \\\n",
              "Lead Name                                                      suresh   \n",
              "Location                                                       mumbai   \n",
              "Status                                                  Not Converted   \n",
              "Status information  14/8/17(Surendra):i want only Server 16|AuG|mo...   \n",
              "\n",
              "                                                                 4     \\\n",
              "Lead Name                                               Akshay Shinde   \n",
              "Location                                                    hyderabad   \n",
              "Status                                                  Not Converted   \n",
              "Status information  14/8/prema:rnr 16/8/prema: gave info, he said ...   \n",
              "\n",
              "                                                                 5     \\\n",
              "Lead Name                                                     Karthik   \n",
              "Location                                                       mumbai   \n",
              "Status                                                  Not Converted   \n",
              "Status information  12/8/17(Surendra):i will check demo(attended d...   \n",
              "\n",
              "                                             6     \\\n",
              "Lead Name                              atul dubey   \n",
              "Location                                    delhi   \n",
              "Status                              Not Converted   \n",
              "Status information  14/8/17(Surendra):asking code   \n",
              "\n",
              "                                                                 7     \\\n",
              "Lead Name                                                    praneeth   \n",
              "Location                                                         pune   \n",
              "Status                                                  Not Converted   \n",
              "Status information  11|aUg|moHan:mail shred for ML Tensorflow corp...   \n",
              "\n",
              "                                       8              9     ...  \\\n",
              "Lead Name                      Smita Shinde          shiba  ...   \n",
              "Location                          bangalore      bangalore  ...   \n",
              "Status                        Not Converted  Not Converted  ...   \n",
              "Status information  11|AuG|moHan:askng code            NaN  ...   \n",
              "\n",
              "                                                                 991   \\\n",
              "Lead Name                                               Vishal Shinde   \n",
              "Location                                                       mumbai   \n",
              "Status                                                  Not Converted   \n",
              "Status information  24/4/17(prema): cal @ 5:30 18/7/17(prema): enr...   \n",
              "\n",
              "                                                                 992   \\\n",
              "Lead Name                                                       seema   \n",
              "Location                                                    bangalore   \n",
              "Status                                                  Not Converted   \n",
              "Status information  24/Apr/moHan:not reachble 25/Apr/moHan:rnr 16/...   \n",
              "\n",
              "                                                                 993   \\\n",
              "Lead Name                                             surekha bathula   \n",
              "Location                                                    hyderabad   \n",
              "Status                                                  Not Converted   \n",
              "Status information  25/4/17(Surendra):share me details i will join...   \n",
              "\n",
              "                                                                 994   \\\n",
              "Lead Name                                                      karuna   \n",
              "Location                                                    bangalore   \n",
              "Status                                                  Not Converted   \n",
              "Status information  24/4/17(prema): shared details 25/4/17(prema):...   \n",
              "\n",
              "                                                                 995   \\\n",
              "Lead Name                                                 chiranjeevi   \n",
              "Location                                                      gurgaon   \n",
              "Status                                                  Not Converted   \n",
              "Status information  24/Apr/moHan:rnr 25/Apr/moHan:rnr 16/MaY/moHan...   \n",
              "\n",
              "                                                                 996   \\\n",
              "Lead Name                                                       vipin   \n",
              "Location                                                    bangalore   \n",
              "Status                                                  Not Converted   \n",
              "Status information  25/4/17(Surendra):please send me details tomor...   \n",
              "\n",
              "                                                                 997   \\\n",
              "Lead Name                                                     dheeraj   \n",
              "Location                                                      chennai   \n",
              "Status                                                  Not Converted   \n",
              "Status information  24/4/17(prema): need CT, but our venue is far....   \n",
              "\n",
              "                                                                 998   \\\n",
              "Lead Name                                               kuldeep singh   \n",
              "Location                                                    bangalore   \n",
              "Status                                                  Not Converted   \n",
              "Status information  24/Apr/moHan:intrstd in evng batch trail perd ...   \n",
              "\n",
              "                                                                 999   \\\n",
              "Lead Name                                                ankur sharma   \n",
              "Location                                                    bangalore   \n",
              "Status                                                  Not Converted   \n",
              "Status information  1/5/17(Surendra):please share me details 11/5/...   \n",
              "\n",
              "                                                                 1000  \n",
              "Lead Name                                         Saugata Chakrabarti  \n",
              "Location                                                    bangalore  \n",
              "Status                                                  Not Converted  \n",
              "Status information  24/4/17(prema): shared details need only Cert....  \n",
              "\n",
              "[4 rows x 1001 columns]"
            ],
            "text/html": [
              "\n",
              "  <div id=\"df-c9fdbded-c5ec-4622-99aa-3b10d9f8a885\">\n",
              "    <div class=\"colab-df-container\">\n",
              "      <div>\n",
              "<style scoped>\n",
              "    .dataframe tbody tr th:only-of-type {\n",
              "        vertical-align: middle;\n",
              "    }\n",
              "\n",
              "    .dataframe tbody tr th {\n",
              "        vertical-align: top;\n",
              "    }\n",
              "\n",
              "    .dataframe thead th {\n",
              "        text-align: right;\n",
              "    }\n",
              "</style>\n",
              "<table border=\"1\" class=\"dataframe\">\n",
              "  <thead>\n",
              "    <tr style=\"text-align: right;\">\n",
              "      <th></th>\n",
              "      <th>0</th>\n",
              "      <th>1</th>\n",
              "      <th>2</th>\n",
              "      <th>3</th>\n",
              "      <th>4</th>\n",
              "      <th>5</th>\n",
              "      <th>6</th>\n",
              "      <th>7</th>\n",
              "      <th>8</th>\n",
              "      <th>9</th>\n",
              "      <th>...</th>\n",
              "      <th>991</th>\n",
              "      <th>992</th>\n",
              "      <th>993</th>\n",
              "      <th>994</th>\n",
              "      <th>995</th>\n",
              "      <th>996</th>\n",
              "      <th>997</th>\n",
              "      <th>998</th>\n",
              "      <th>999</th>\n",
              "      <th>1000</th>\n",
              "    </tr>\n",
              "  </thead>\n",
              "  <tbody>\n",
              "    <tr>\n",
              "      <th>Lead Name</th>\n",
              "      <td>Raja</td>\n",
              "      <td>Anirudh Reddy</td>\n",
              "      <td>Sapna Dewani</td>\n",
              "      <td>suresh</td>\n",
              "      <td>Akshay Shinde</td>\n",
              "      <td>Karthik</td>\n",
              "      <td>atul dubey</td>\n",
              "      <td>praneeth</td>\n",
              "      <td>Smita Shinde</td>\n",
              "      <td>shiba</td>\n",
              "      <td>...</td>\n",
              "      <td>Vishal Shinde</td>\n",
              "      <td>seema</td>\n",
              "      <td>surekha bathula</td>\n",
              "      <td>karuna</td>\n",
              "      <td>chiranjeevi</td>\n",
              "      <td>vipin</td>\n",
              "      <td>dheeraj</td>\n",
              "      <td>kuldeep singh</td>\n",
              "      <td>ankur sharma</td>\n",
              "      <td>Saugata Chakrabarti</td>\n",
              "    </tr>\n",
              "    <tr>\n",
              "      <th>Location</th>\n",
              "      <td>hyderabad</td>\n",
              "      <td>pune</td>\n",
              "      <td>bangalore</td>\n",
              "      <td>mumbai</td>\n",
              "      <td>hyderabad</td>\n",
              "      <td>mumbai</td>\n",
              "      <td>delhi</td>\n",
              "      <td>pune</td>\n",
              "      <td>bangalore</td>\n",
              "      <td>bangalore</td>\n",
              "      <td>...</td>\n",
              "      <td>mumbai</td>\n",
              "      <td>bangalore</td>\n",
              "      <td>hyderabad</td>\n",
              "      <td>bangalore</td>\n",
              "      <td>gurgaon</td>\n",
              "      <td>bangalore</td>\n",
              "      <td>chennai</td>\n",
              "      <td>bangalore</td>\n",
              "      <td>bangalore</td>\n",
              "      <td>bangalore</td>\n",
              "    </tr>\n",
              "    <tr>\n",
              "      <th>Status</th>\n",
              "      <td>Not Converted</td>\n",
              "      <td>Not Converted</td>\n",
              "      <td>Converted</td>\n",
              "      <td>Not Converted</td>\n",
              "      <td>Not Converted</td>\n",
              "      <td>Not Converted</td>\n",
              "      <td>Not Converted</td>\n",
              "      <td>Not Converted</td>\n",
              "      <td>Not Converted</td>\n",
              "      <td>Not Converted</td>\n",
              "      <td>...</td>\n",
              "      <td>Not Converted</td>\n",
              "      <td>Not Converted</td>\n",
              "      <td>Not Converted</td>\n",
              "      <td>Not Converted</td>\n",
              "      <td>Not Converted</td>\n",
              "      <td>Not Converted</td>\n",
              "      <td>Not Converted</td>\n",
              "      <td>Not Converted</td>\n",
              "      <td>Not Converted</td>\n",
              "      <td>Not Converted</td>\n",
              "    </tr>\n",
              "    <tr>\n",
              "      <th>Status information</th>\n",
              "      <td>14/8/prema: share me details, available in evn...</td>\n",
              "      <td>14/8/prema: cal me tmrw, shared details to ema...</td>\n",
              "      <td>16|AuG|moHan:rnr</td>\n",
              "      <td>14/8/17(Surendra):i want only Server 16|AuG|mo...</td>\n",
              "      <td>14/8/prema:rnr 16/8/prema: gave info, he said ...</td>\n",
              "      <td>12/8/17(Surendra):i will check demo(attended d...</td>\n",
              "      <td>14/8/17(Surendra):asking code</td>\n",
              "      <td>11|aUg|moHan:mail shred for ML Tensorflow corp...</td>\n",
              "      <td>11|AuG|moHan:askng code</td>\n",
              "      <td>NaN</td>\n",
              "      <td>...</td>\n",
              "      <td>24/4/17(prema): cal @ 5:30 18/7/17(prema): enr...</td>\n",
              "      <td>24/Apr/moHan:not reachble 25/Apr/moHan:rnr 16/...</td>\n",
              "      <td>25/4/17(Surendra):share me details i will join...</td>\n",
              "      <td>24/4/17(prema): shared details 25/4/17(prema):...</td>\n",
              "      <td>24/Apr/moHan:rnr 25/Apr/moHan:rnr 16/MaY/moHan...</td>\n",
              "      <td>25/4/17(Surendra):please send me details tomor...</td>\n",
              "      <td>24/4/17(prema): need CT, but our venue is far....</td>\n",
              "      <td>24/Apr/moHan:intrstd in evng batch trail perd ...</td>\n",
              "      <td>1/5/17(Surendra):please share me details 11/5/...</td>\n",
              "      <td>24/4/17(prema): shared details need only Cert....</td>\n",
              "    </tr>\n",
              "  </tbody>\n",
              "</table>\n",
              "<p>4 rows × 1001 columns</p>\n",
              "</div>\n",
              "      <button class=\"colab-df-convert\" onclick=\"convertToInteractive('df-c9fdbded-c5ec-4622-99aa-3b10d9f8a885')\"\n",
              "              title=\"Convert this dataframe to an interactive table.\"\n",
              "              style=\"display:none;\">\n",
              "        \n",
              "  <svg xmlns=\"http://www.w3.org/2000/svg\" height=\"24px\"viewBox=\"0 0 24 24\"\n",
              "       width=\"24px\">\n",
              "    <path d=\"M0 0h24v24H0V0z\" fill=\"none\"/>\n",
              "    <path d=\"M18.56 5.44l.94 2.06.94-2.06 2.06-.94-2.06-.94-.94-2.06-.94 2.06-2.06.94zm-11 1L8.5 8.5l.94-2.06 2.06-.94-2.06-.94L8.5 2.5l-.94 2.06-2.06.94zm10 10l.94 2.06.94-2.06 2.06-.94-2.06-.94-.94-2.06-.94 2.06-2.06.94z\"/><path d=\"M17.41 7.96l-1.37-1.37c-.4-.4-.92-.59-1.43-.59-.52 0-1.04.2-1.43.59L10.3 9.45l-7.72 7.72c-.78.78-.78 2.05 0 2.83L4 21.41c.39.39.9.59 1.41.59.51 0 1.02-.2 1.41-.59l7.78-7.78 2.81-2.81c.8-.78.8-2.07 0-2.86zM5.41 20L4 18.59l7.72-7.72 1.47 1.35L5.41 20z\"/>\n",
              "  </svg>\n",
              "      </button>\n",
              "      \n",
              "  <style>\n",
              "    .colab-df-container {\n",
              "      display:flex;\n",
              "      flex-wrap:wrap;\n",
              "      gap: 12px;\n",
              "    }\n",
              "\n",
              "    .colab-df-convert {\n",
              "      background-color: #E8F0FE;\n",
              "      border: none;\n",
              "      border-radius: 50%;\n",
              "      cursor: pointer;\n",
              "      display: none;\n",
              "      fill: #1967D2;\n",
              "      height: 32px;\n",
              "      padding: 0 0 0 0;\n",
              "      width: 32px;\n",
              "    }\n",
              "\n",
              "    .colab-df-convert:hover {\n",
              "      background-color: #E2EBFA;\n",
              "      box-shadow: 0px 1px 2px rgba(60, 64, 67, 0.3), 0px 1px 3px 1px rgba(60, 64, 67, 0.15);\n",
              "      fill: #174EA6;\n",
              "    }\n",
              "\n",
              "    [theme=dark] .colab-df-convert {\n",
              "      background-color: #3B4455;\n",
              "      fill: #D2E3FC;\n",
              "    }\n",
              "\n",
              "    [theme=dark] .colab-df-convert:hover {\n",
              "      background-color: #434B5C;\n",
              "      box-shadow: 0px 1px 3px 1px rgba(0, 0, 0, 0.15);\n",
              "      filter: drop-shadow(0px 1px 2px rgba(0, 0, 0, 0.3));\n",
              "      fill: #FFFFFF;\n",
              "    }\n",
              "  </style>\n",
              "\n",
              "      <script>\n",
              "        const buttonEl =\n",
              "          document.querySelector('#df-c9fdbded-c5ec-4622-99aa-3b10d9f8a885 button.colab-df-convert');\n",
              "        buttonEl.style.display =\n",
              "          google.colab.kernel.accessAllowed ? 'block' : 'none';\n",
              "\n",
              "        async function convertToInteractive(key) {\n",
              "          const element = document.querySelector('#df-c9fdbded-c5ec-4622-99aa-3b10d9f8a885');\n",
              "          const dataTable =\n",
              "            await google.colab.kernel.invokeFunction('convertToInteractive',\n",
              "                                                     [key], {});\n",
              "          if (!dataTable) return;\n",
              "\n",
              "          const docLinkHtml = 'Like what you see? Visit the ' +\n",
              "            '<a target=\"_blank\" href=https://colab.research.google.com/notebooks/data_table.ipynb>data table notebook</a>'\n",
              "            + ' to learn more about interactive tables.';\n",
              "          element.innerHTML = '';\n",
              "          dataTable['output_type'] = 'display_data';\n",
              "          await google.colab.output.renderOutput(dataTable, element);\n",
              "          const docLink = document.createElement('div');\n",
              "          docLink.innerHTML = docLinkHtml;\n",
              "          element.appendChild(docLink);\n",
              "        }\n",
              "      </script>\n",
              "    </div>\n",
              "  </div>\n",
              "  "
            ]
          },
          "metadata": {},
          "execution_count": 5
        }
      ],
      "source": [
        "dataset.T"
      ]
    },
    {
      "cell_type": "code",
      "execution_count": 6,
      "id": "502a93b0",
      "metadata": {
        "colab": {
          "base_uri": "https://localhost:8080/"
        },
        "id": "502a93b0",
        "outputId": "65a338a3-9932-46ba-9af4-5f4dfa2c367d"
      },
      "outputs": [
        {
          "output_type": "stream",
          "name": "stdout",
          "text": [
            "<class 'pandas.core.frame.DataFrame'>\n",
            "RangeIndex: 1001 entries, 0 to 1000\n",
            "Data columns (total 4 columns):\n",
            " #   Column              Non-Null Count  Dtype \n",
            "---  ------              --------------  ----- \n",
            " 0   Lead Name           1001 non-null   object\n",
            " 1   Location            980 non-null    object\n",
            " 2   Status              998 non-null    object\n",
            " 3   Status information  977 non-null    object\n",
            "dtypes: object(4)\n",
            "memory usage: 31.4+ KB\n"
          ]
        }
      ],
      "source": [
        "dataset.info()"
      ]
    },
    {
      "cell_type": "code",
      "execution_count": 7,
      "id": "96f1a4a3",
      "metadata": {
        "colab": {
          "base_uri": "https://localhost:8080/"
        },
        "id": "96f1a4a3",
        "outputId": "0316e309-d9ef-48e2-a40d-a871420febb6"
      },
      "outputs": [
        {
          "output_type": "execute_result",
          "data": {
            "text/plain": [
              "(1001, 4)"
            ]
          },
          "metadata": {},
          "execution_count": 7
        }
      ],
      "source": [
        "dataset.shape"
      ]
    },
    {
      "cell_type": "code",
      "execution_count": 8,
      "id": "8846b5ec",
      "metadata": {
        "colab": {
          "base_uri": "https://localhost:8080/"
        },
        "id": "8846b5ec",
        "outputId": "06834eeb-b444-4146-f3a9-bcfe1209a303"
      },
      "outputs": [
        {
          "output_type": "execute_result",
          "data": {
            "text/plain": [
              "0"
            ]
          },
          "metadata": {},
          "execution_count": 8
        }
      ],
      "source": [
        "dataset.duplicated().sum()"
      ]
    },
    {
      "cell_type": "code",
      "execution_count": 9,
      "id": "e2ae6648",
      "metadata": {
        "colab": {
          "base_uri": "https://localhost:8080/"
        },
        "id": "e2ae6648",
        "outputId": "71d13942-c50b-4b55-a035-8a8578289082"
      },
      "outputs": [
        {
          "output_type": "execute_result",
          "data": {
            "text/plain": [
              "Lead Name              0\n",
              "Location              21\n",
              "Status                 3\n",
              "Status information    24\n",
              "dtype: int64"
            ]
          },
          "metadata": {},
          "execution_count": 9
        }
      ],
      "source": [
        "dataset.isnull().sum()"
      ]
    },
    {
      "cell_type": "code",
      "source": [
        "dataset[dataset.isnull().any(axis=1)]"
      ],
      "metadata": {
        "colab": {
          "base_uri": "https://localhost:8080/",
          "height": 1000
        },
        "id": "X9NNLq_sIYAL",
        "outputId": "f5c82207-44d0-41b4-a901-1f7ada775ff5"
      },
      "id": "X9NNLq_sIYAL",
      "execution_count": 10,
      "outputs": [
        {
          "output_type": "execute_result",
          "data": {
            "text/plain": [
              "                         Lead Name   Location         Status  \\\n",
              "9                            shiba  bangalore  Not Converted   \n",
              "13                          poorna  hyderabad  Not Converted   \n",
              "15                        jaswanth  bangalore  Not Converted   \n",
              "16                         trinadh  australia  Not Converted   \n",
              "17                           sunny  bangalore     Converted    \n",
              "74                             Sai        NaN  Not Converted   \n",
              "164                           ravi        NaN  Not Converted   \n",
              "205                    Vinothkumar  hyderabad  Not Converted   \n",
              "216                          vinod        NaN     Converted    \n",
              "224                       srihitha        NaN  Not Converted   \n",
              "225                          Vijay        NaN  Not Converted   \n",
              "243                     Abdulrazak        NaN  Not Converted   \n",
              "247                    Vaijayanthi  hyderabad            NaN   \n",
              "248                       Mohammad     mumbai            NaN   \n",
              "287                           arya        USA  Not Converted   \n",
              "288                        sathvik  bangalore  Not Converted   \n",
              "289                    Nilesh Kala        USA  Not Converted   \n",
              "290                        aravind        USA  Not Converted   \n",
              "291                          kiran        USA  Not Converted   \n",
              "292               Madhu Bharathula     mumbai  Not Converted   \n",
              "294                  Deepak Dhawan        NaN  Not Converted   \n",
              "295                        sathvik       pune  Not Converted   \n",
              "296                         Nilesh  bangalore  Not Converted   \n",
              "321  Nadar Theriadhithya Mariappan        NaN  Not Converted   \n",
              "329                        Mallesh  bangalore            NaN   \n",
              "363                       Ashutosh      delhi  Not Converted   \n",
              "433                 Mohamed Sameer        NaN  Not Converted   \n",
              "463                     Dayanand.m        NaN  Not Converted   \n",
              "502                          sneha  bangalore  Not Converted   \n",
              "503                         naveen     mumbai  Not Converted   \n",
              "508                 Chandana dutta        NaN     Converted    \n",
              "509                          vivek      delhi  Not Converted   \n",
              "549                  Siddharth Raj       pune  Not Converted   \n",
              "554              Raveendra Sibyala        NaN  Not Converted   \n",
              "555                         Nagesh        NaN  Not Converted   \n",
              "558                Trishaank Kumar        NaN  Not Converted   \n",
              "559                     Chakradhar        NaN     Converted    \n",
              "561                        Gowtham        NaN  Not Converted   \n",
              "562                        Sumanth        NaN  Not Converted   \n",
              "563                          Sunil        NaN  Not Converted   \n",
              "564                    Allabhakshu        NaN  Not Converted   \n",
              "565                         Naveen        NaN  Not Converted   \n",
              "620                          Kabir        NaN  Not Converted   \n",
              "624                          Biren  bangalore  Not Converted   \n",
              "987             Chetakrao Halageri       pune  Not Converted   \n",
              "\n",
              "                                    Status information  \n",
              "9                                                  NaN  \n",
              "13                                                 NaN  \n",
              "15                                                 NaN  \n",
              "16                                                 NaN  \n",
              "17                                                 NaN  \n",
              "74   7/8/17(soma):RNR,asked to call after half an h...  \n",
              "164                            detail shared in watsap  \n",
              "205                                                NaN  \n",
              "216  21/7/prema: shared details 24/7/prema: shared ...  \n",
              "224          24/JulY/moHan: for us people clsd to othr  \n",
              "225                                  24/JulY/moHan:rnr  \n",
              "243  19/7/17(Surendra):share me data science and ml...  \n",
              "247  17/JulY/moHan:need cls room 20/JulY/moHan:not now  \n",
              "248  17/7/17(Surendra):not connected 17/7/17(Surend...  \n",
              "287                                                NaN  \n",
              "288                                                NaN  \n",
              "289                                                NaN  \n",
              "290                                                NaN  \n",
              "291                                                NaN  \n",
              "292                                                NaN  \n",
              "294  13/7/17(prema): shared details 14/7/prema: RNR...  \n",
              "295                                                NaN  \n",
              "296                                                NaN  \n",
              "321          Asking code 27/7/17(Surendra):asking code  \n",
              "329                  11/JulY/moHan:devops with linux 4  \n",
              "363                                                NaN  \n",
              "433  5/7/17(gowtham)i want only cls room trning n i...  \n",
              "463  29/6/17(Surendra): please share me details 30/...  \n",
              "502                                                NaN  \n",
              "503                                                NaN  \n",
              "508  22/6/17(prema): not reachable 22/6/17(prema): ...  \n",
              "509                                                NaN  \n",
              "549                                                NaN  \n",
              "554  26/6/17(Surendra):RNR 28/6/17(Surendra):not in...  \n",
              "555                                                NaN  \n",
              "558  20/JunE/moHan: btech 2nd yr slowly plng for BA...  \n",
              "559                                                NaN  \n",
              "561  20/6/17(prema): RNR 20/6/17(prema): spoke with...  \n",
              "562  19/6/17(prema): shared details, he is a freshe...  \n",
              "563  19/6/17(mohan): he is fresher working as Data ...  \n",
              "564                                                NaN  \n",
              "565  19/6/17(prema): shared details 20/6/17(prema):...  \n",
              "620  8/JunE/moHan:not reachble nd frshr check demo ...  \n",
              "624                                                NaN  \n",
              "987                                                NaN  "
            ],
            "text/html": [
              "\n",
              "  <div id=\"df-51402b38-9495-45e5-9958-c38c4d4fd47e\">\n",
              "    <div class=\"colab-df-container\">\n",
              "      <div>\n",
              "<style scoped>\n",
              "    .dataframe tbody tr th:only-of-type {\n",
              "        vertical-align: middle;\n",
              "    }\n",
              "\n",
              "    .dataframe tbody tr th {\n",
              "        vertical-align: top;\n",
              "    }\n",
              "\n",
              "    .dataframe thead th {\n",
              "        text-align: right;\n",
              "    }\n",
              "</style>\n",
              "<table border=\"1\" class=\"dataframe\">\n",
              "  <thead>\n",
              "    <tr style=\"text-align: right;\">\n",
              "      <th></th>\n",
              "      <th>Lead Name</th>\n",
              "      <th>Location</th>\n",
              "      <th>Status</th>\n",
              "      <th>Status information</th>\n",
              "    </tr>\n",
              "  </thead>\n",
              "  <tbody>\n",
              "    <tr>\n",
              "      <th>9</th>\n",
              "      <td>shiba</td>\n",
              "      <td>bangalore</td>\n",
              "      <td>Not Converted</td>\n",
              "      <td>NaN</td>\n",
              "    </tr>\n",
              "    <tr>\n",
              "      <th>13</th>\n",
              "      <td>poorna</td>\n",
              "      <td>hyderabad</td>\n",
              "      <td>Not Converted</td>\n",
              "      <td>NaN</td>\n",
              "    </tr>\n",
              "    <tr>\n",
              "      <th>15</th>\n",
              "      <td>jaswanth</td>\n",
              "      <td>bangalore</td>\n",
              "      <td>Not Converted</td>\n",
              "      <td>NaN</td>\n",
              "    </tr>\n",
              "    <tr>\n",
              "      <th>16</th>\n",
              "      <td>trinadh</td>\n",
              "      <td>australia</td>\n",
              "      <td>Not Converted</td>\n",
              "      <td>NaN</td>\n",
              "    </tr>\n",
              "    <tr>\n",
              "      <th>17</th>\n",
              "      <td>sunny</td>\n",
              "      <td>bangalore</td>\n",
              "      <td>Converted</td>\n",
              "      <td>NaN</td>\n",
              "    </tr>\n",
              "    <tr>\n",
              "      <th>74</th>\n",
              "      <td>Sai</td>\n",
              "      <td>NaN</td>\n",
              "      <td>Not Converted</td>\n",
              "      <td>7/8/17(soma):RNR,asked to call after half an h...</td>\n",
              "    </tr>\n",
              "    <tr>\n",
              "      <th>164</th>\n",
              "      <td>ravi</td>\n",
              "      <td>NaN</td>\n",
              "      <td>Not Converted</td>\n",
              "      <td>detail shared in watsap</td>\n",
              "    </tr>\n",
              "    <tr>\n",
              "      <th>205</th>\n",
              "      <td>Vinothkumar</td>\n",
              "      <td>hyderabad</td>\n",
              "      <td>Not Converted</td>\n",
              "      <td>NaN</td>\n",
              "    </tr>\n",
              "    <tr>\n",
              "      <th>216</th>\n",
              "      <td>vinod</td>\n",
              "      <td>NaN</td>\n",
              "      <td>Converted</td>\n",
              "      <td>21/7/prema: shared details 24/7/prema: shared ...</td>\n",
              "    </tr>\n",
              "    <tr>\n",
              "      <th>224</th>\n",
              "      <td>srihitha</td>\n",
              "      <td>NaN</td>\n",
              "      <td>Not Converted</td>\n",
              "      <td>24/JulY/moHan: for us people clsd to othr</td>\n",
              "    </tr>\n",
              "    <tr>\n",
              "      <th>225</th>\n",
              "      <td>Vijay</td>\n",
              "      <td>NaN</td>\n",
              "      <td>Not Converted</td>\n",
              "      <td>24/JulY/moHan:rnr</td>\n",
              "    </tr>\n",
              "    <tr>\n",
              "      <th>243</th>\n",
              "      <td>Abdulrazak</td>\n",
              "      <td>NaN</td>\n",
              "      <td>Not Converted</td>\n",
              "      <td>19/7/17(Surendra):share me data science and ml...</td>\n",
              "    </tr>\n",
              "    <tr>\n",
              "      <th>247</th>\n",
              "      <td>Vaijayanthi</td>\n",
              "      <td>hyderabad</td>\n",
              "      <td>NaN</td>\n",
              "      <td>17/JulY/moHan:need cls room 20/JulY/moHan:not now</td>\n",
              "    </tr>\n",
              "    <tr>\n",
              "      <th>248</th>\n",
              "      <td>Mohammad</td>\n",
              "      <td>mumbai</td>\n",
              "      <td>NaN</td>\n",
              "      <td>17/7/17(Surendra):not connected 17/7/17(Surend...</td>\n",
              "    </tr>\n",
              "    <tr>\n",
              "      <th>287</th>\n",
              "      <td>arya</td>\n",
              "      <td>USA</td>\n",
              "      <td>Not Converted</td>\n",
              "      <td>NaN</td>\n",
              "    </tr>\n",
              "    <tr>\n",
              "      <th>288</th>\n",
              "      <td>sathvik</td>\n",
              "      <td>bangalore</td>\n",
              "      <td>Not Converted</td>\n",
              "      <td>NaN</td>\n",
              "    </tr>\n",
              "    <tr>\n",
              "      <th>289</th>\n",
              "      <td>Nilesh Kala</td>\n",
              "      <td>USA</td>\n",
              "      <td>Not Converted</td>\n",
              "      <td>NaN</td>\n",
              "    </tr>\n",
              "    <tr>\n",
              "      <th>290</th>\n",
              "      <td>aravind</td>\n",
              "      <td>USA</td>\n",
              "      <td>Not Converted</td>\n",
              "      <td>NaN</td>\n",
              "    </tr>\n",
              "    <tr>\n",
              "      <th>291</th>\n",
              "      <td>kiran</td>\n",
              "      <td>USA</td>\n",
              "      <td>Not Converted</td>\n",
              "      <td>NaN</td>\n",
              "    </tr>\n",
              "    <tr>\n",
              "      <th>292</th>\n",
              "      <td>Madhu Bharathula</td>\n",
              "      <td>mumbai</td>\n",
              "      <td>Not Converted</td>\n",
              "      <td>NaN</td>\n",
              "    </tr>\n",
              "    <tr>\n",
              "      <th>294</th>\n",
              "      <td>Deepak Dhawan</td>\n",
              "      <td>NaN</td>\n",
              "      <td>Not Converted</td>\n",
              "      <td>13/7/17(prema): shared details 14/7/prema: RNR...</td>\n",
              "    </tr>\n",
              "    <tr>\n",
              "      <th>295</th>\n",
              "      <td>sathvik</td>\n",
              "      <td>pune</td>\n",
              "      <td>Not Converted</td>\n",
              "      <td>NaN</td>\n",
              "    </tr>\n",
              "    <tr>\n",
              "      <th>296</th>\n",
              "      <td>Nilesh</td>\n",
              "      <td>bangalore</td>\n",
              "      <td>Not Converted</td>\n",
              "      <td>NaN</td>\n",
              "    </tr>\n",
              "    <tr>\n",
              "      <th>321</th>\n",
              "      <td>Nadar Theriadhithya Mariappan</td>\n",
              "      <td>NaN</td>\n",
              "      <td>Not Converted</td>\n",
              "      <td>Asking code 27/7/17(Surendra):asking code</td>\n",
              "    </tr>\n",
              "    <tr>\n",
              "      <th>329</th>\n",
              "      <td>Mallesh</td>\n",
              "      <td>bangalore</td>\n",
              "      <td>NaN</td>\n",
              "      <td>11/JulY/moHan:devops with linux 4</td>\n",
              "    </tr>\n",
              "    <tr>\n",
              "      <th>363</th>\n",
              "      <td>Ashutosh</td>\n",
              "      <td>delhi</td>\n",
              "      <td>Not Converted</td>\n",
              "      <td>NaN</td>\n",
              "    </tr>\n",
              "    <tr>\n",
              "      <th>433</th>\n",
              "      <td>Mohamed Sameer</td>\n",
              "      <td>NaN</td>\n",
              "      <td>Not Converted</td>\n",
              "      <td>5/7/17(gowtham)i want only cls room trning n i...</td>\n",
              "    </tr>\n",
              "    <tr>\n",
              "      <th>463</th>\n",
              "      <td>Dayanand.m</td>\n",
              "      <td>NaN</td>\n",
              "      <td>Not Converted</td>\n",
              "      <td>29/6/17(Surendra): please share me details 30/...</td>\n",
              "    </tr>\n",
              "    <tr>\n",
              "      <th>502</th>\n",
              "      <td>sneha</td>\n",
              "      <td>bangalore</td>\n",
              "      <td>Not Converted</td>\n",
              "      <td>NaN</td>\n",
              "    </tr>\n",
              "    <tr>\n",
              "      <th>503</th>\n",
              "      <td>naveen</td>\n",
              "      <td>mumbai</td>\n",
              "      <td>Not Converted</td>\n",
              "      <td>NaN</td>\n",
              "    </tr>\n",
              "    <tr>\n",
              "      <th>508</th>\n",
              "      <td>Chandana dutta</td>\n",
              "      <td>NaN</td>\n",
              "      <td>Converted</td>\n",
              "      <td>22/6/17(prema): not reachable 22/6/17(prema): ...</td>\n",
              "    </tr>\n",
              "    <tr>\n",
              "      <th>509</th>\n",
              "      <td>vivek</td>\n",
              "      <td>delhi</td>\n",
              "      <td>Not Converted</td>\n",
              "      <td>NaN</td>\n",
              "    </tr>\n",
              "    <tr>\n",
              "      <th>549</th>\n",
              "      <td>Siddharth Raj</td>\n",
              "      <td>pune</td>\n",
              "      <td>Not Converted</td>\n",
              "      <td>NaN</td>\n",
              "    </tr>\n",
              "    <tr>\n",
              "      <th>554</th>\n",
              "      <td>Raveendra Sibyala</td>\n",
              "      <td>NaN</td>\n",
              "      <td>Not Converted</td>\n",
              "      <td>26/6/17(Surendra):RNR 28/6/17(Surendra):not in...</td>\n",
              "    </tr>\n",
              "    <tr>\n",
              "      <th>555</th>\n",
              "      <td>Nagesh</td>\n",
              "      <td>NaN</td>\n",
              "      <td>Not Converted</td>\n",
              "      <td>NaN</td>\n",
              "    </tr>\n",
              "    <tr>\n",
              "      <th>558</th>\n",
              "      <td>Trishaank Kumar</td>\n",
              "      <td>NaN</td>\n",
              "      <td>Not Converted</td>\n",
              "      <td>20/JunE/moHan: btech 2nd yr slowly plng for BA...</td>\n",
              "    </tr>\n",
              "    <tr>\n",
              "      <th>559</th>\n",
              "      <td>Chakradhar</td>\n",
              "      <td>NaN</td>\n",
              "      <td>Converted</td>\n",
              "      <td>NaN</td>\n",
              "    </tr>\n",
              "    <tr>\n",
              "      <th>561</th>\n",
              "      <td>Gowtham</td>\n",
              "      <td>NaN</td>\n",
              "      <td>Not Converted</td>\n",
              "      <td>20/6/17(prema): RNR 20/6/17(prema): spoke with...</td>\n",
              "    </tr>\n",
              "    <tr>\n",
              "      <th>562</th>\n",
              "      <td>Sumanth</td>\n",
              "      <td>NaN</td>\n",
              "      <td>Not Converted</td>\n",
              "      <td>19/6/17(prema): shared details, he is a freshe...</td>\n",
              "    </tr>\n",
              "    <tr>\n",
              "      <th>563</th>\n",
              "      <td>Sunil</td>\n",
              "      <td>NaN</td>\n",
              "      <td>Not Converted</td>\n",
              "      <td>19/6/17(mohan): he is fresher working as Data ...</td>\n",
              "    </tr>\n",
              "    <tr>\n",
              "      <th>564</th>\n",
              "      <td>Allabhakshu</td>\n",
              "      <td>NaN</td>\n",
              "      <td>Not Converted</td>\n",
              "      <td>NaN</td>\n",
              "    </tr>\n",
              "    <tr>\n",
              "      <th>565</th>\n",
              "      <td>Naveen</td>\n",
              "      <td>NaN</td>\n",
              "      <td>Not Converted</td>\n",
              "      <td>19/6/17(prema): shared details 20/6/17(prema):...</td>\n",
              "    </tr>\n",
              "    <tr>\n",
              "      <th>620</th>\n",
              "      <td>Kabir</td>\n",
              "      <td>NaN</td>\n",
              "      <td>Not Converted</td>\n",
              "      <td>8/JunE/moHan:not reachble nd frshr check demo ...</td>\n",
              "    </tr>\n",
              "    <tr>\n",
              "      <th>624</th>\n",
              "      <td>Biren</td>\n",
              "      <td>bangalore</td>\n",
              "      <td>Not Converted</td>\n",
              "      <td>NaN</td>\n",
              "    </tr>\n",
              "    <tr>\n",
              "      <th>987</th>\n",
              "      <td>Chetakrao Halageri</td>\n",
              "      <td>pune</td>\n",
              "      <td>Not Converted</td>\n",
              "      <td>NaN</td>\n",
              "    </tr>\n",
              "  </tbody>\n",
              "</table>\n",
              "</div>\n",
              "      <button class=\"colab-df-convert\" onclick=\"convertToInteractive('df-51402b38-9495-45e5-9958-c38c4d4fd47e')\"\n",
              "              title=\"Convert this dataframe to an interactive table.\"\n",
              "              style=\"display:none;\">\n",
              "        \n",
              "  <svg xmlns=\"http://www.w3.org/2000/svg\" height=\"24px\"viewBox=\"0 0 24 24\"\n",
              "       width=\"24px\">\n",
              "    <path d=\"M0 0h24v24H0V0z\" fill=\"none\"/>\n",
              "    <path d=\"M18.56 5.44l.94 2.06.94-2.06 2.06-.94-2.06-.94-.94-2.06-.94 2.06-2.06.94zm-11 1L8.5 8.5l.94-2.06 2.06-.94-2.06-.94L8.5 2.5l-.94 2.06-2.06.94zm10 10l.94 2.06.94-2.06 2.06-.94-2.06-.94-.94-2.06-.94 2.06-2.06.94z\"/><path d=\"M17.41 7.96l-1.37-1.37c-.4-.4-.92-.59-1.43-.59-.52 0-1.04.2-1.43.59L10.3 9.45l-7.72 7.72c-.78.78-.78 2.05 0 2.83L4 21.41c.39.39.9.59 1.41.59.51 0 1.02-.2 1.41-.59l7.78-7.78 2.81-2.81c.8-.78.8-2.07 0-2.86zM5.41 20L4 18.59l7.72-7.72 1.47 1.35L5.41 20z\"/>\n",
              "  </svg>\n",
              "      </button>\n",
              "      \n",
              "  <style>\n",
              "    .colab-df-container {\n",
              "      display:flex;\n",
              "      flex-wrap:wrap;\n",
              "      gap: 12px;\n",
              "    }\n",
              "\n",
              "    .colab-df-convert {\n",
              "      background-color: #E8F0FE;\n",
              "      border: none;\n",
              "      border-radius: 50%;\n",
              "      cursor: pointer;\n",
              "      display: none;\n",
              "      fill: #1967D2;\n",
              "      height: 32px;\n",
              "      padding: 0 0 0 0;\n",
              "      width: 32px;\n",
              "    }\n",
              "\n",
              "    .colab-df-convert:hover {\n",
              "      background-color: #E2EBFA;\n",
              "      box-shadow: 0px 1px 2px rgba(60, 64, 67, 0.3), 0px 1px 3px 1px rgba(60, 64, 67, 0.15);\n",
              "      fill: #174EA6;\n",
              "    }\n",
              "\n",
              "    [theme=dark] .colab-df-convert {\n",
              "      background-color: #3B4455;\n",
              "      fill: #D2E3FC;\n",
              "    }\n",
              "\n",
              "    [theme=dark] .colab-df-convert:hover {\n",
              "      background-color: #434B5C;\n",
              "      box-shadow: 0px 1px 3px 1px rgba(0, 0, 0, 0.15);\n",
              "      filter: drop-shadow(0px 1px 2px rgba(0, 0, 0, 0.3));\n",
              "      fill: #FFFFFF;\n",
              "    }\n",
              "  </style>\n",
              "\n",
              "      <script>\n",
              "        const buttonEl =\n",
              "          document.querySelector('#df-51402b38-9495-45e5-9958-c38c4d4fd47e button.colab-df-convert');\n",
              "        buttonEl.style.display =\n",
              "          google.colab.kernel.accessAllowed ? 'block' : 'none';\n",
              "\n",
              "        async function convertToInteractive(key) {\n",
              "          const element = document.querySelector('#df-51402b38-9495-45e5-9958-c38c4d4fd47e');\n",
              "          const dataTable =\n",
              "            await google.colab.kernel.invokeFunction('convertToInteractive',\n",
              "                                                     [key], {});\n",
              "          if (!dataTable) return;\n",
              "\n",
              "          const docLinkHtml = 'Like what you see? Visit the ' +\n",
              "            '<a target=\"_blank\" href=https://colab.research.google.com/notebooks/data_table.ipynb>data table notebook</a>'\n",
              "            + ' to learn more about interactive tables.';\n",
              "          element.innerHTML = '';\n",
              "          dataTable['output_type'] = 'display_data';\n",
              "          await google.colab.output.renderOutput(dataTable, element);\n",
              "          const docLink = document.createElement('div');\n",
              "          docLink.innerHTML = docLinkHtml;\n",
              "          element.appendChild(docLink);\n",
              "        }\n",
              "      </script>\n",
              "    </div>\n",
              "  </div>\n",
              "  "
            ]
          },
          "metadata": {},
          "execution_count": 10
        }
      ]
    },
    {
      "cell_type": "code",
      "source": [
        "# fill Location with \"unknown\" and drop other NaN values\n",
        "dataset['Location'] = dataset['Location'].fillna('unknown')\n",
        "dataset = dataset.dropna(subset=['Status', 'Status information'])"
      ],
      "metadata": {
        "id": "XuPeubafIt7W"
      },
      "id": "XuPeubafIt7W",
      "execution_count": 11,
      "outputs": []
    },
    {
      "cell_type": "code",
      "execution_count": 12,
      "id": "adcc93f8",
      "metadata": {
        "id": "adcc93f8",
        "colab": {
          "base_uri": "https://localhost:8080/"
        },
        "outputId": "83522e30-bfee-4dcc-d466-2ef2279dde55"
      },
      "outputs": [
        {
          "output_type": "stream",
          "name": "stderr",
          "text": [
            "<ipython-input-12-5d9fdf092076>:2: SettingWithCopyWarning:\n",
            "\n",
            "\n",
            "A value is trying to be set on a copy of a slice from a DataFrame\n",
            "\n",
            "See the caveats in the documentation: https://pandas.pydata.org/pandas-docs/stable/user_guide/indexing.html#returning-a-view-versus-a-copy\n",
            "\n"
          ]
        }
      ],
      "source": [
        "## Renaming column for ease in analysis\n",
        "dataset.rename(columns={'Status information':'Description'}, inplace=True)"
      ]
    },
    {
      "cell_type": "code",
      "execution_count": 13,
      "id": "a37d71dc",
      "metadata": {
        "colab": {
          "base_uri": "https://localhost:8080/"
        },
        "id": "a37d71dc",
        "outputId": "7cd158d9-369e-4d87-c23e-25a14c58b1d9"
      },
      "outputs": [
        {
          "output_type": "execute_result",
          "data": {
            "text/plain": [
              "Not Converted    834\n",
              "Converted        122\n",
              "NOt Converted     11\n",
              "Conveted           7\n",
              "Name: Status, dtype: int64"
            ]
          },
          "metadata": {},
          "execution_count": 13
        }
      ],
      "source": [
        "dataset['Status'].value_counts()"
      ]
    },
    {
      "cell_type": "code",
      "source": [
        "## Correcting the spellings in the Status column \n",
        "dataset['Status'] = dataset['Status'].str.replace('conveted', 'converted', case=False)\n",
        "dataset['Status'] = dataset['Status'].str.strip().str.lower()\n",
        "dataset['Status ID'] = dataset['Status'].map({'converted': 1, 'not converted': 0})\n"
      ],
      "metadata": {
        "id": "zKRX7HctKYgZ",
        "colab": {
          "base_uri": "https://localhost:8080/"
        },
        "outputId": "25b82e10-1700-483e-f96b-2de89146c896"
      },
      "id": "zKRX7HctKYgZ",
      "execution_count": 14,
      "outputs": [
        {
          "output_type": "stream",
          "name": "stderr",
          "text": [
            "<ipython-input-14-f91f3b1d044d>:2: SettingWithCopyWarning:\n",
            "\n",
            "\n",
            "A value is trying to be set on a copy of a slice from a DataFrame.\n",
            "Try using .loc[row_indexer,col_indexer] = value instead\n",
            "\n",
            "See the caveats in the documentation: https://pandas.pydata.org/pandas-docs/stable/user_guide/indexing.html#returning-a-view-versus-a-copy\n",
            "\n",
            "<ipython-input-14-f91f3b1d044d>:3: SettingWithCopyWarning:\n",
            "\n",
            "\n",
            "A value is trying to be set on a copy of a slice from a DataFrame.\n",
            "Try using .loc[row_indexer,col_indexer] = value instead\n",
            "\n",
            "See the caveats in the documentation: https://pandas.pydata.org/pandas-docs/stable/user_guide/indexing.html#returning-a-view-versus-a-copy\n",
            "\n",
            "<ipython-input-14-f91f3b1d044d>:4: SettingWithCopyWarning:\n",
            "\n",
            "\n",
            "A value is trying to be set on a copy of a slice from a DataFrame.\n",
            "Try using .loc[row_indexer,col_indexer] = value instead\n",
            "\n",
            "See the caveats in the documentation: https://pandas.pydata.org/pandas-docs/stable/user_guide/indexing.html#returning-a-view-versus-a-copy\n",
            "\n"
          ]
        }
      ]
    },
    {
      "cell_type": "code",
      "execution_count": 15,
      "id": "d79d4a41",
      "metadata": {
        "colab": {
          "base_uri": "https://localhost:8080/",
          "height": 112
        },
        "id": "d79d4a41",
        "outputId": "7754f038-12a3-4022-ae2d-352fa58ee554"
      },
      "outputs": [
        {
          "output_type": "execute_result",
          "data": {
            "text/plain": [
              "          Status  Status ID\n",
              "0  not converted          0\n",
              "2      converted          1"
            ],
            "text/html": [
              "\n",
              "  <div id=\"df-3fd9390c-b40f-4f4f-8038-c0008e6aa4bb\">\n",
              "    <div class=\"colab-df-container\">\n",
              "      <div>\n",
              "<style scoped>\n",
              "    .dataframe tbody tr th:only-of-type {\n",
              "        vertical-align: middle;\n",
              "    }\n",
              "\n",
              "    .dataframe tbody tr th {\n",
              "        vertical-align: top;\n",
              "    }\n",
              "\n",
              "    .dataframe thead th {\n",
              "        text-align: right;\n",
              "    }\n",
              "</style>\n",
              "<table border=\"1\" class=\"dataframe\">\n",
              "  <thead>\n",
              "    <tr style=\"text-align: right;\">\n",
              "      <th></th>\n",
              "      <th>Status</th>\n",
              "      <th>Status ID</th>\n",
              "    </tr>\n",
              "  </thead>\n",
              "  <tbody>\n",
              "    <tr>\n",
              "      <th>0</th>\n",
              "      <td>not converted</td>\n",
              "      <td>0</td>\n",
              "    </tr>\n",
              "    <tr>\n",
              "      <th>2</th>\n",
              "      <td>converted</td>\n",
              "      <td>1</td>\n",
              "    </tr>\n",
              "  </tbody>\n",
              "</table>\n",
              "</div>\n",
              "      <button class=\"colab-df-convert\" onclick=\"convertToInteractive('df-3fd9390c-b40f-4f4f-8038-c0008e6aa4bb')\"\n",
              "              title=\"Convert this dataframe to an interactive table.\"\n",
              "              style=\"display:none;\">\n",
              "        \n",
              "  <svg xmlns=\"http://www.w3.org/2000/svg\" height=\"24px\"viewBox=\"0 0 24 24\"\n",
              "       width=\"24px\">\n",
              "    <path d=\"M0 0h24v24H0V0z\" fill=\"none\"/>\n",
              "    <path d=\"M18.56 5.44l.94 2.06.94-2.06 2.06-.94-2.06-.94-.94-2.06-.94 2.06-2.06.94zm-11 1L8.5 8.5l.94-2.06 2.06-.94-2.06-.94L8.5 2.5l-.94 2.06-2.06.94zm10 10l.94 2.06.94-2.06 2.06-.94-2.06-.94-.94-2.06-.94 2.06-2.06.94z\"/><path d=\"M17.41 7.96l-1.37-1.37c-.4-.4-.92-.59-1.43-.59-.52 0-1.04.2-1.43.59L10.3 9.45l-7.72 7.72c-.78.78-.78 2.05 0 2.83L4 21.41c.39.39.9.59 1.41.59.51 0 1.02-.2 1.41-.59l7.78-7.78 2.81-2.81c.8-.78.8-2.07 0-2.86zM5.41 20L4 18.59l7.72-7.72 1.47 1.35L5.41 20z\"/>\n",
              "  </svg>\n",
              "      </button>\n",
              "      \n",
              "  <style>\n",
              "    .colab-df-container {\n",
              "      display:flex;\n",
              "      flex-wrap:wrap;\n",
              "      gap: 12px;\n",
              "    }\n",
              "\n",
              "    .colab-df-convert {\n",
              "      background-color: #E8F0FE;\n",
              "      border: none;\n",
              "      border-radius: 50%;\n",
              "      cursor: pointer;\n",
              "      display: none;\n",
              "      fill: #1967D2;\n",
              "      height: 32px;\n",
              "      padding: 0 0 0 0;\n",
              "      width: 32px;\n",
              "    }\n",
              "\n",
              "    .colab-df-convert:hover {\n",
              "      background-color: #E2EBFA;\n",
              "      box-shadow: 0px 1px 2px rgba(60, 64, 67, 0.3), 0px 1px 3px 1px rgba(60, 64, 67, 0.15);\n",
              "      fill: #174EA6;\n",
              "    }\n",
              "\n",
              "    [theme=dark] .colab-df-convert {\n",
              "      background-color: #3B4455;\n",
              "      fill: #D2E3FC;\n",
              "    }\n",
              "\n",
              "    [theme=dark] .colab-df-convert:hover {\n",
              "      background-color: #434B5C;\n",
              "      box-shadow: 0px 1px 3px 1px rgba(0, 0, 0, 0.15);\n",
              "      filter: drop-shadow(0px 1px 2px rgba(0, 0, 0, 0.3));\n",
              "      fill: #FFFFFF;\n",
              "    }\n",
              "  </style>\n",
              "\n",
              "      <script>\n",
              "        const buttonEl =\n",
              "          document.querySelector('#df-3fd9390c-b40f-4f4f-8038-c0008e6aa4bb button.colab-df-convert');\n",
              "        buttonEl.style.display =\n",
              "          google.colab.kernel.accessAllowed ? 'block' : 'none';\n",
              "\n",
              "        async function convertToInteractive(key) {\n",
              "          const element = document.querySelector('#df-3fd9390c-b40f-4f4f-8038-c0008e6aa4bb');\n",
              "          const dataTable =\n",
              "            await google.colab.kernel.invokeFunction('convertToInteractive',\n",
              "                                                     [key], {});\n",
              "          if (!dataTable) return;\n",
              "\n",
              "          const docLinkHtml = 'Like what you see? Visit the ' +\n",
              "            '<a target=\"_blank\" href=https://colab.research.google.com/notebooks/data_table.ipynb>data table notebook</a>'\n",
              "            + ' to learn more about interactive tables.';\n",
              "          element.innerHTML = '';\n",
              "          dataTable['output_type'] = 'display_data';\n",
              "          await google.colab.output.renderOutput(dataTable, element);\n",
              "          const docLink = document.createElement('div');\n",
              "          docLink.innerHTML = docLinkHtml;\n",
              "          element.appendChild(docLink);\n",
              "        }\n",
              "      </script>\n",
              "    </div>\n",
              "  </div>\n",
              "  "
            ]
          },
          "metadata": {},
          "execution_count": 15
        }
      ],
      "source": [
        "status_m = dataset[['Status','Status ID']].drop_duplicates().sort_values('Status ID')\n",
        "status_m"
      ]
    },
    {
      "cell_type": "code",
      "source": [
        "# Set the figure size\n",
        "plt.figure(figsize=(15, 6))\n",
        "\n",
        "# Create a countplot of the 'Status ID' column\n",
        "sns.countplot(x='Status ID', data=dataset, palette='hls')\n",
        "\n",
        "# Set the x-axis tick labels\n",
        "plt.gca().set_xticklabels(['Not Converted', 'Converted'])\n",
        "\n",
        "# Rotate the x-axis labels to be horizontal\n",
        "plt.xticks(rotation=0)\n",
        "\n",
        "# Show the plot\n",
        "plt.show()"
      ],
      "metadata": {
        "colab": {
          "base_uri": "https://localhost:8080/",
          "height": 388
        },
        "id": "_096fP2hUvvu",
        "outputId": "26f38528-86a9-4c8d-b9b1-336651c19667"
      },
      "id": "_096fP2hUvvu",
      "execution_count": 16,
      "outputs": [
        {
          "output_type": "display_data",
          "data": {
            "text/plain": [
              "<Figure size 1080x432 with 1 Axes>"
            ],
            "image/png": "[encoded data removed]"
          },
          "metadata": {
            "needs_background": "light"
          }
        }
      ]
    },
    {
      "cell_type": "code",
      "execution_count": 17,
      "id": "d227823a",
      "metadata": {
        "colab": {
          "base_uri": "https://localhost:8080/",
          "height": 466
        },
        "id": "d227823a",
        "outputId": "d56b0ef8-e6d7-43b0-f911-95f85a93e62e"
      },
      "outputs": [
        {
          "output_type": "display_data",
          "data": {
            "text/plain": [
              "<Figure size 864x576 with 1 Axes>"
            ],
            "image/png": "[encoded data removed]"
          },
          "metadata": {}
        }
      ],
      "source": [
        "# Set the figure size\n",
        "plt.figure(figsize=(12, 8))\n",
        "\n",
        "# Create a pie chart of the 'Status ID' column\n",
        "labels = ['Not Converted', 'Converted']\n",
        "dataset['Status ID'].value_counts().plot(kind='pie', labels=labels, autopct='%1.1f%%')\n",
        "\n",
        "# Rotate the x-axis labels to be vertical\n",
        "plt.xticks(rotation=90)\n",
        "\n",
        "# Show the plot\n",
        "plt.show()"
      ]
    },
    {
      "cell_type": "code",
      "source": [
        "def clean_description(text):\n",
        "    \"\"\"\n",
        "    Function to clean text data by removing URLs, mentions, punctuation, hashtags, non-ASCII characters,\n",
        "    extra whitespace, and numbers.\n",
        "    \n",
        "    Args:\n",
        "    text (str): Text data to be cleaned.\n",
        "    \n",
        "    Returns:\n",
        "    str: Cleaned text data in lowercase.\n",
        "    \"\"\"\n",
        "    text = re.sub('http\\S+\\s*', ' ', text) # remove URLs in the text\n",
        "    text = re.sub('@\\S+', '  ', text) # remove mentions in the text\n",
        "    text = re.sub('[%s]' % re.escape(\"\"\"!\"#$%&'()*+,-./;<=>?@[\\]^_`{|}~\"\"\"), ' ', text) # remove punctuations in the text\n",
        "    text = re.sub('RNR|cc|rnr', ' ', text) # remove RT and cc in the text\n",
        "    text = re.sub('#\\S+', '', text) # remove hashtags in the text\n",
        "    text = re.sub(r'[^\\x00-\\x7f]',r' ',text) # remove non-ASCII characters\n",
        "    text = re.sub('\\s+', ' ', text) # remove extra whitespace in the text\n",
        "    #text = re.sub(':\\s+', ' ', text) # remove semicolons\n",
        "    text = re.sub('\\d','', text)# remove numbers\n",
        "    return text.lower()\n",
        "\n",
        "# Apply the clean_description function to the 'Description' column and create a new 'Cleaned_Desc' column in the dataset\n",
        "dataset['Cleaned_Desc'] = dataset['Description'].apply(lambda x: clean_description(x))"
      ],
      "metadata": {
        "id": "qu9tSpD0VPs7"
      },
      "id": "qu9tSpD0VPs7",
      "execution_count": 18,
      "outputs": []
    },
    {
      "cell_type": "code",
      "execution_count": 19,
      "id": "eab5ca83",
      "metadata": {
        "colab": {
          "base_uri": "https://localhost:8080/",
          "height": 206
        },
        "id": "eab5ca83",
        "outputId": "fde9240d-0f05-4bc1-fdaf-a27ded4d4075"
      },
      "outputs": [
        {
          "output_type": "execute_result",
          "data": {
            "text/plain": [
              "       Lead Name   Location         Status  \\\n",
              "0           Raja  hyderabad  not converted   \n",
              "1  Anirudh Reddy       pune  not converted   \n",
              "2   Sapna Dewani  bangalore      converted   \n",
              "3         suresh     mumbai  not converted   \n",
              "4  Akshay Shinde  hyderabad  not converted   \n",
              "\n",
              "                                         Description  Status ID  \\\n",
              "0  14/8/prema: share me details, available in evn...          0   \n",
              "1  14/8/prema: cal me tmrw, shared details to ema...          0   \n",
              "2                                   16|AuG|moHan:rnr          1   \n",
              "3  14/8/17(Surendra):i want only Server 16|AuG|mo...          0   \n",
              "4  14/8/prema:rnr 16/8/prema: gave info, he said ...          0   \n",
              "\n",
              "                                        Cleaned_Desc  \n",
              "0    prema: share me details available in evng   ...  \n",
              "1    prema: cal me tmrw shared details to email  ...  \n",
              "2                                        aug mohan:   \n",
              "3     surendra :i want only server  aug mohan:cal...  \n",
              "4    prema:   prema: gave info he said he will re...  "
            ],
            "text/html": [
              "\n",
              "  <div id=\"df-87437279-9ac7-4584-b28b-0d92a59539d2\">\n",
              "    <div class=\"colab-df-container\">\n",
              "      <div>\n",
              "<style scoped>\n",
              "    .dataframe tbody tr th:only-of-type {\n",
              "        vertical-align: middle;\n",
              "    }\n",
              "\n",
              "    .dataframe tbody tr th {\n",
              "        vertical-align: top;\n",
              "    }\n",
              "\n",
              "    .dataframe thead th {\n",
              "        text-align: right;\n",
              "    }\n",
              "</style>\n",
              "<table border=\"1\" class=\"dataframe\">\n",
              "  <thead>\n",
              "    <tr style=\"text-align: right;\">\n",
              "      <th></th>\n",
              "      <th>Lead Name</th>\n",
              "      <th>Location</th>\n",
              "      <th>Status</th>\n",
              "      <th>Description</th>\n",
              "      <th>Status ID</th>\n",
              "      <th>Cleaned_Desc</th>\n",
              "    </tr>\n",
              "  </thead>\n",
              "  <tbody>\n",
              "    <tr>\n",
              "      <th>0</th>\n",
              "      <td>Raja</td>\n",
              "      <td>hyderabad</td>\n",
              "      <td>not converted</td>\n",
              "      <td>14/8/prema: share me details, available in evn...</td>\n",
              "      <td>0</td>\n",
              "      <td>prema: share me details available in evng   ...</td>\n",
              "    </tr>\n",
              "    <tr>\n",
              "      <th>1</th>\n",
              "      <td>Anirudh Reddy</td>\n",
              "      <td>pune</td>\n",
              "      <td>not converted</td>\n",
              "      <td>14/8/prema: cal me tmrw, shared details to ema...</td>\n",
              "      <td>0</td>\n",
              "      <td>prema: cal me tmrw shared details to email  ...</td>\n",
              "    </tr>\n",
              "    <tr>\n",
              "      <th>2</th>\n",
              "      <td>Sapna Dewani</td>\n",
              "      <td>bangalore</td>\n",
              "      <td>converted</td>\n",
              "      <td>16|AuG|moHan:rnr</td>\n",
              "      <td>1</td>\n",
              "      <td>aug mohan:</td>\n",
              "    </tr>\n",
              "    <tr>\n",
              "      <th>3</th>\n",
              "      <td>suresh</td>\n",
              "      <td>mumbai</td>\n",
              "      <td>not converted</td>\n",
              "      <td>14/8/17(Surendra):i want only Server 16|AuG|mo...</td>\n",
              "      <td>0</td>\n",
              "      <td>surendra :i want only server  aug mohan:cal...</td>\n",
              "    </tr>\n",
              "    <tr>\n",
              "      <th>4</th>\n",
              "      <td>Akshay Shinde</td>\n",
              "      <td>hyderabad</td>\n",
              "      <td>not converted</td>\n",
              "      <td>14/8/prema:rnr 16/8/prema: gave info, he said ...</td>\n",
              "      <td>0</td>\n",
              "      <td>prema:   prema: gave info he said he will re...</td>\n",
              "    </tr>\n",
              "  </tbody>\n",
              "</table>\n",
              "</div>\n",
              "      <button class=\"colab-df-convert\" onclick=\"convertToInteractive('df-87437279-9ac7-4584-b28b-0d92a59539d2')\"\n",
              "              title=\"Convert this dataframe to an interactive table.\"\n",
              "              style=\"display:none;\">\n",
              "        \n",
              "  <svg xmlns=\"http://www.w3.org/2000/svg\" height=\"24px\"viewBox=\"0 0 24 24\"\n",
              "       width=\"24px\">\n",
              "    <path d=\"M0 0h24v24H0V0z\" fill=\"none\"/>\n",
              "    <path d=\"M18.56 5.44l.94 2.06.94-2.06 2.06-.94-2.06-.94-.94-2.06-.94 2.06-2.06.94zm-11 1L8.5 8.5l.94-2.06 2.06-.94-2.06-.94L8.5 2.5l-.94 2.06-2.06.94zm10 10l.94 2.06.94-2.06 2.06-.94-2.06-.94-.94-2.06-.94 2.06-2.06.94z\"/><path d=\"M17.41 7.96l-1.37-1.37c-.4-.4-.92-.59-1.43-.59-.52 0-1.04.2-1.43.59L10.3 9.45l-7.72 7.72c-.78.78-.78 2.05 0 2.83L4 21.41c.39.39.9.59 1.41.59.51 0 1.02-.2 1.41-.59l7.78-7.78 2.81-2.81c.8-.78.8-2.07 0-2.86zM5.41 20L4 18.59l7.72-7.72 1.47 1.35L5.41 20z\"/>\n",
              "  </svg>\n",
              "      </button>\n",
              "      \n",
              "  <style>\n",
              "    .colab-df-container {\n",
              "      display:flex;\n",
              "      flex-wrap:wrap;\n",
              "      gap: 12px;\n",
              "    }\n",
              "\n",
              "    .colab-df-convert {\n",
              "      background-color: #E8F0FE;\n",
              "      border: none;\n",
              "      border-radius: 50%;\n",
              "      cursor: pointer;\n",
              "      display: none;\n",
              "      fill: #1967D2;\n",
              "      height: 32px;\n",
              "      padding: 0 0 0 0;\n",
              "      width: 32px;\n",
              "    }\n",
              "\n",
              "    .colab-df-convert:hover {\n",
              "      background-color: #E2EBFA;\n",
              "      box-shadow: 0px 1px 2px rgba(60, 64, 67, 0.3), 0px 1px 3px 1px rgba(60, 64, 67, 0.15);\n",
              "      fill: #174EA6;\n",
              "    }\n",
              "\n",
              "    [theme=dark] .colab-df-convert {\n",
              "      background-color: #3B4455;\n",
              "      fill: #D2E3FC;\n",
              "    }\n",
              "\n",
              "    [theme=dark] .colab-df-convert:hover {\n",
              "      background-color: #434B5C;\n",
              "      box-shadow: 0px 1px 3px 1px rgba(0, 0, 0, 0.15);\n",
              "      filter: drop-shadow(0px 1px 2px rgba(0, 0, 0, 0.3));\n",
              "      fill: #FFFFFF;\n",
              "    }\n",
              "  </style>\n",
              "\n",
              "      <script>\n",
              "        const buttonEl =\n",
              "          document.querySelector('#df-87437279-9ac7-4584-b28b-0d92a59539d2 button.colab-df-convert');\n",
              "        buttonEl.style.display =\n",
              "          google.colab.kernel.accessAllowed ? 'block' : 'none';\n",
              "\n",
              "        async function convertToInteractive(key) {\n",
              "          const element = document.querySelector('#df-87437279-9ac7-4584-b28b-0d92a59539d2');\n",
              "          const dataTable =\n",
              "            await google.colab.kernel.invokeFunction('convertToInteractive',\n",
              "                                                     [key], {});\n",
              "          if (!dataTable) return;\n",
              "\n",
              "          const docLinkHtml = 'Like what you see? Visit the ' +\n",
              "            '<a target=\"_blank\" href=https://colab.research.google.com/notebooks/data_table.ipynb>data table notebook</a>'\n",
              "            + ' to learn more about interactive tables.';\n",
              "          element.innerHTML = '';\n",
              "          dataTable['output_type'] = 'display_data';\n",
              "          await google.colab.output.renderOutput(dataTable, element);\n",
              "          const docLink = document.createElement('div');\n",
              "          docLink.innerHTML = docLinkHtml;\n",
              "          element.appendChild(docLink);\n",
              "        }\n",
              "      </script>\n",
              "    </div>\n",
              "  </div>\n",
              "  "
            ]
          },
          "metadata": {},
          "execution_count": 19
        }
      ],
      "source": [
        "dataset.head()"
      ]
    },
    {
      "cell_type": "code",
      "source": [
        "# # Extract text before colon and store in new columns\n",
        "# dataset[['exc-a', 'exc-b']] = dataset['Cleaned_Desc'].str.extract('^([^:]+):\\s*(.*)$')\n",
        "\n",
        "# # Clean up any whitespace around the extracted text\n",
        "# dataset['exc-a'] = dataset['exc-a'].str.strip()\n",
        "# dataset['exc-b'] = dataset['exc-b'].str.strip()"
      ],
      "metadata": {
        "id": "bmNjzIXZ8opr"
      },
      "id": "bmNjzIXZ8opr",
      "execution_count": 20,
      "outputs": []
    },
    {
      "cell_type": "code",
      "source": [
        "dataset['exc_name'] = dataset['Cleaned_Desc'].str.extract('^\\W*(\\w+)(?:\\s*;|\\W)\\s*')"
      ],
      "metadata": {
        "id": "oQ8ijF_95p-O"
      },
      "id": "oQ8ijF_95p-O",
      "execution_count": 21,
      "outputs": []
    },
    {
      "cell_type": "code",
      "source": [
        "dataset['exc_name'].value_counts()"
      ],
      "metadata": {
        "colab": {
          "base_uri": "https://localhost:8080/"
        },
        "id": "42G4m4IWGG5G",
        "outputId": "98405a47-f9ec-4486-87cc-6d60b9d2a210"
      },
      "id": "42G4m4IWGG5G",
      "execution_count": 22,
      "outputs": [
        {
          "output_type": "execute_result",
          "data": {
            "text/plain": [
              "surendra     283\n",
              "prema        259\n",
              "soma         117\n",
              "july          94\n",
              "may           58\n",
              "june          51\n",
              "gowtham       46\n",
              "aug           29\n",
              "apr           16\n",
              "mail           6\n",
              "attrended      1\n",
              "paras          1\n",
              "jun            1\n",
              "mohan          1\n",
              "not            1\n",
              "whatsap        1\n",
              "sankar         1\n",
              "asking         1\n",
              "need           1\n",
              "detail         1\n",
              "old            1\n",
              "alrady         1\n",
              "worng          1\n",
              "amar           1\n",
              "sai            1\n",
              "Name: exc_name, dtype: int64"
            ]
          },
          "metadata": {},
          "execution_count": 22
        }
      ]
    },
    {
      "cell_type": "code",
      "source": [
        "# # extract the first word as before\n",
        "# dataset['exc-a'] = dataset['Cleaned_Desc'].str.extract('^\\W*(\\w+)(?:\\s*;|\\W)\\s*')\n",
        "\n",
        "# # remove the first word from the original column\n",
        "# dataset['Cleaned_Desc'] = dataset['Cleaned_Desc'].str.replace('^\\W*\\w+\\W*', '')\n",
        "\n",
        "# # display the result\n",
        "# print(dataset[['Cleaned_Desc', 'exc-a']])\n"
      ],
      "metadata": {
        "id": "MYqGWZrKBzpU"
      },
      "id": "MYqGWZrKBzpU",
      "execution_count": 23,
      "outputs": []
    },
    {
      "cell_type": "code",
      "source": [
        "# # create a sample DataFrame with some values\n",
        "# data = {'exc_names': ['june', 'may', 'sankar', 'prema', 'not', 'aug', 'whatsap']}\n",
        "# df = pd.DataFrame(data)\n",
        "\n",
        "# replace month names with \"mohan\"\n",
        "dataset['exc_name'] = dataset['exc_name'].replace(['apr', 'may', 'june', 'jun', 'july', 'aug'], 'mohan')\n",
        "\n",
        "# replace non-name words with \"unknown\"\n",
        "dataset['exc_name'] = dataset['exc_name'].apply(lambda x: x if x in ['surendra', 'prema', 'soma', 'mohan', 'gowtham', 'paras', 'sai'] else 'unknown')\n",
        "\n",
        "# print the resulting DataFrame\n",
        "dataset['exc_name']"
      ],
      "metadata": {
        "colab": {
          "base_uri": "https://localhost:8080/"
        },
        "id": "s9eZV1sRLvPz",
        "outputId": "51e309c6-607c-47cf-bb5c-8a8ebe984673"
      },
      "id": "s9eZV1sRLvPz",
      "execution_count": 24,
      "outputs": [
        {
          "output_type": "execute_result",
          "data": {
            "text/plain": [
              "0          prema\n",
              "1          prema\n",
              "2          mohan\n",
              "3       surendra\n",
              "4          prema\n",
              "          ...   \n",
              "996     surendra\n",
              "997        prema\n",
              "998        mohan\n",
              "999     surendra\n",
              "1000       prema\n",
              "Name: exc_name, Length: 974, dtype: object"
            ]
          },
          "metadata": {},
          "execution_count": 24
        }
      ]
    },
    {
      "cell_type": "code",
      "source": [
        "dataset['Cleaned_Desc']"
      ],
      "metadata": {
        "colab": {
          "base_uri": "https://localhost:8080/"
        },
        "id": "QtVEPuNw69kR",
        "outputId": "1b16ffd8-f815-4b8f-9a03-32af238c1186"
      },
      "id": "QtVEPuNw69kR",
      "execution_count": 25,
      "outputs": [
        {
          "output_type": "execute_result",
          "data": {
            "text/plain": [
              "0         prema: share me details available in evng   ...\n",
              "1         prema: cal me tmrw shared details to email  ...\n",
              "2                                             aug mohan: \n",
              "3          surendra :i want only server  aug mohan:cal...\n",
              "4         prema:   prema: gave info he said he will re...\n",
              "                              ...                        \n",
              "996        surendra :please send me details tomorrow a...\n",
              "997        prema : need ct but our venue is far shared...\n",
              "998      apr mohan:intrstd in evng batch trail perd  a...\n",
              "999        surendra :please share me details    gowtha...\n",
              "1000       prema : shared details need only cert    pr...\n",
              "Name: Cleaned_Desc, Length: 974, dtype: object"
            ]
          },
          "metadata": {},
          "execution_count": 25
        }
      ]
    },
    {
      "cell_type": "code",
      "source": [
        "dataset.head(4)"
      ],
      "metadata": {
        "id": "geTfY2sT8yAr",
        "colab": {
          "base_uri": "https://localhost:8080/",
          "height": 175
        },
        "outputId": "0b78aa82-5170-421a-a7fe-53d005f87098"
      },
      "id": "geTfY2sT8yAr",
      "execution_count": 26,
      "outputs": [
        {
          "output_type": "execute_result",
          "data": {
            "text/plain": [
              "       Lead Name   Location         Status  \\\n",
              "0           Raja  hyderabad  not converted   \n",
              "1  Anirudh Reddy       pune  not converted   \n",
              "2   Sapna Dewani  bangalore      converted   \n",
              "3         suresh     mumbai  not converted   \n",
              "\n",
              "                                         Description  Status ID  \\\n",
              "0  14/8/prema: share me details, available in evn...          0   \n",
              "1  14/8/prema: cal me tmrw, shared details to ema...          0   \n",
              "2                                   16|AuG|moHan:rnr          1   \n",
              "3  14/8/17(Surendra):i want only Server 16|AuG|mo...          0   \n",
              "\n",
              "                                        Cleaned_Desc  exc_name  \n",
              "0    prema: share me details available in evng   ...     prema  \n",
              "1    prema: cal me tmrw shared details to email  ...     prema  \n",
              "2                                        aug mohan:      mohan  \n",
              "3     surendra :i want only server  aug mohan:cal...  surendra  "
            ],
            "text/html": [
              "\n",
              "  <div id=\"df-8f2412e5-bc8a-4cb2-9741-62780c49b51e\">\n",
              "    <div class=\"colab-df-container\">\n",
              "      <div>\n",
              "<style scoped>\n",
              "    .dataframe tbody tr th:only-of-type {\n",
              "        vertical-align: middle;\n",
              "    }\n",
              "\n",
              "    .dataframe tbody tr th {\n",
              "        vertical-align: top;\n",
              "    }\n",
              "\n",
              "    .dataframe thead th {\n",
              "        text-align: right;\n",
              "    }\n",
              "</style>\n",
              "<table border=\"1\" class=\"dataframe\">\n",
              "  <thead>\n",
              "    <tr style=\"text-align: right;\">\n",
              "      <th></th>\n",
              "      <th>Lead Name</th>\n",
              "      <th>Location</th>\n",
              "      <th>Status</th>\n",
              "      <th>Description</th>\n",
              "      <th>Status ID</th>\n",
              "      <th>Cleaned_Desc</th>\n",
              "      <th>exc_name</th>\n",
              "    </tr>\n",
              "  </thead>\n",
              "  <tbody>\n",
              "    <tr>\n",
              "      <th>0</th>\n",
              "      <td>Raja</td>\n",
              "      <td>hyderabad</td>\n",
              "      <td>not converted</td>\n",
              "      <td>14/8/prema: share me details, available in evn...</td>\n",
              "      <td>0</td>\n",
              "      <td>prema: share me details available in evng   ...</td>\n",
              "      <td>prema</td>\n",
              "    </tr>\n",
              "    <tr>\n",
              "      <th>1</th>\n",
              "      <td>Anirudh Reddy</td>\n",
              "      <td>pune</td>\n",
              "      <td>not converted</td>\n",
              "      <td>14/8/prema: cal me tmrw, shared details to ema...</td>\n",
              "      <td>0</td>\n",
              "      <td>prema: cal me tmrw shared details to email  ...</td>\n",
              "      <td>prema</td>\n",
              "    </tr>\n",
              "    <tr>\n",
              "      <th>2</th>\n",
              "      <td>Sapna Dewani</td>\n",
              "      <td>bangalore</td>\n",
              "      <td>converted</td>\n",
              "      <td>16|AuG|moHan:rnr</td>\n",
              "      <td>1</td>\n",
              "      <td>aug mohan:</td>\n",
              "      <td>mohan</td>\n",
              "    </tr>\n",
              "    <tr>\n",
              "      <th>3</th>\n",
              "      <td>suresh</td>\n",
              "      <td>mumbai</td>\n",
              "      <td>not converted</td>\n",
              "      <td>14/8/17(Surendra):i want only Server 16|AuG|mo...</td>\n",
              "      <td>0</td>\n",
              "      <td>surendra :i want only server  aug mohan:cal...</td>\n",
              "      <td>surendra</td>\n",
              "    </tr>\n",
              "  </tbody>\n",
              "</table>\n",
              "</div>\n",
              "      <button class=\"colab-df-convert\" onclick=\"convertToInteractive('df-8f2412e5-bc8a-4cb2-9741-62780c49b51e')\"\n",
              "              title=\"Convert this dataframe to an interactive table.\"\n",
              "              style=\"display:none;\">\n",
              "        \n",
              "  <svg xmlns=\"http://www.w3.org/2000/svg\" height=\"24px\"viewBox=\"0 0 24 24\"\n",
              "       width=\"24px\">\n",
              "    <path d=\"M0 0h24v24H0V0z\" fill=\"none\"/>\n",
              "    <path d=\"M18.56 5.44l.94 2.06.94-2.06 2.06-.94-2.06-.94-.94-2.06-.94 2.06-2.06.94zm-11 1L8.5 8.5l.94-2.06 2.06-.94-2.06-.94L8.5 2.5l-.94 2.06-2.06.94zm10 10l.94 2.06.94-2.06 2.06-.94-2.06-.94-.94-2.06-.94 2.06-2.06.94z\"/><path d=\"M17.41 7.96l-1.37-1.37c-.4-.4-.92-.59-1.43-.59-.52 0-1.04.2-1.43.59L10.3 9.45l-7.72 7.72c-.78.78-.78 2.05 0 2.83L4 21.41c.39.39.9.59 1.41.59.51 0 1.02-.2 1.41-.59l7.78-7.78 2.81-2.81c.8-.78.8-2.07 0-2.86zM5.41 20L4 18.59l7.72-7.72 1.47 1.35L5.41 20z\"/>\n",
              "  </svg>\n",
              "      </button>\n",
              "      \n",
              "  <style>\n",
              "    .colab-df-container {\n",
              "      display:flex;\n",
              "      flex-wrap:wrap;\n",
              "      gap: 12px;\n",
              "    }\n",
              "\n",
              "    .colab-df-convert {\n",
              "      background-color: #E8F0FE;\n",
              "      border: none;\n",
              "      border-radius: 50%;\n",
              "      cursor: pointer;\n",
              "      display: none;\n",
              "      fill: #1967D2;\n",
              "      height: 32px;\n",
              "      padding: 0 0 0 0;\n",
              "      width: 32px;\n",
              "    }\n",
              "\n",
              "    .colab-df-convert:hover {\n",
              "      background-color: #E2EBFA;\n",
              "      box-shadow: 0px 1px 2px rgba(60, 64, 67, 0.3), 0px 1px 3px 1px rgba(60, 64, 67, 0.15);\n",
              "      fill: #174EA6;\n",
              "    }\n",
              "\n",
              "    [theme=dark] .colab-df-convert {\n",
              "      background-color: #3B4455;\n",
              "      fill: #D2E3FC;\n",
              "    }\n",
              "\n",
              "    [theme=dark] .colab-df-convert:hover {\n",
              "      background-color: #434B5C;\n",
              "      box-shadow: 0px 1px 3px 1px rgba(0, 0, 0, 0.15);\n",
              "      filter: drop-shadow(0px 1px 2px rgba(0, 0, 0, 0.3));\n",
              "      fill: #FFFFFF;\n",
              "    }\n",
              "  </style>\n",
              "\n",
              "      <script>\n",
              "        const buttonEl =\n",
              "          document.querySelector('#df-8f2412e5-bc8a-4cb2-9741-62780c49b51e button.colab-df-convert');\n",
              "        buttonEl.style.display =\n",
              "          google.colab.kernel.accessAllowed ? 'block' : 'none';\n",
              "\n",
              "        async function convertToInteractive(key) {\n",
              "          const element = document.querySelector('#df-8f2412e5-bc8a-4cb2-9741-62780c49b51e');\n",
              "          const dataTable =\n",
              "            await google.colab.kernel.invokeFunction('convertToInteractive',\n",
              "                                                     [key], {});\n",
              "          if (!dataTable) return;\n",
              "\n",
              "          const docLinkHtml = 'Like what you see? Visit the ' +\n",
              "            '<a target=\"_blank\" href=https://colab.research.google.com/notebooks/data_table.ipynb>data table notebook</a>'\n",
              "            + ' to learn more about interactive tables.';\n",
              "          element.innerHTML = '';\n",
              "          dataTable['output_type'] = 'display_data';\n",
              "          await google.colab.output.renderOutput(dataTable, element);\n",
              "          const docLink = document.createElement('div');\n",
              "          docLink.innerHTML = docLinkHtml;\n",
              "          element.appendChild(docLink);\n",
              "        }\n",
              "      </script>\n",
              "    </div>\n",
              "  </div>\n",
              "  "
            ]
          },
          "metadata": {},
          "execution_count": 26
        }
      ]
    },
    {
      "cell_type": "code",
      "source": [
        "# dataset['Cleaned_Desc'] = dataset['Cleaned_Desc'].str.replace(' :',' ')\n",
        "# dataset['Cleaned_Desc'] = dataset['Cleaned_Desc'].str.replace(': ',' ')\n",
        "# dataset['Cleaned_Desc'] = dataset['Cleaned_Desc'].str.replace(':',' ')"
      ],
      "metadata": {
        "id": "2LijzJqbz8kR"
      },
      "id": "2LijzJqbz8kR",
      "execution_count": 27,
      "outputs": []
    },
    {
      "cell_type": "code",
      "source": [
        "dataset['Cleaned_Desc'] = dataset['Cleaned_Desc'].str.replace(r':\\s*', ' ', regex=True)"
      ],
      "metadata": {
        "id": "w_GbrWdOR3kA"
      },
      "id": "w_GbrWdOR3kA",
      "execution_count": 28,
      "outputs": []
    },
    {
      "cell_type": "code",
      "execution_count": 29,
      "id": "dd0fd99c",
      "metadata": {
        "colab": {
          "base_uri": "https://localhost:8080/"
        },
        "id": "dd0fd99c",
        "outputId": "7c7d0055-cfec-4711-e540-21cac3ddcafc"
      },
      "outputs": [
        {
          "output_type": "execute_result",
          "data": {
            "text/plain": [
              "0         prema share me details available in evng   p...\n",
              "1         prema cal me tmrw shared details to email   ...\n",
              "2                                              aug mohan \n",
              "3          surendra  i want only server  aug mohan cal...\n",
              "4         prema prema gave info he said he will revert...\n",
              "                              ...                        \n",
              "996        surendra  please send me details tomorrow a...\n",
              "997        prema  need ct but our venue is far shared ...\n",
              "998      apr mohan intrstd in evng batch trail perd  a...\n",
              "999        surendra  please share me details    gowtha...\n",
              "1000       prema  shared details need only cert    pre...\n",
              "Name: Cleaned_Desc, Length: 974, dtype: object"
            ]
          },
          "metadata": {},
          "execution_count": 29
        }
      ],
      "source": [
        "dataset.Cleaned_Desc"
      ]
    },
    {
      "cell_type": "code",
      "execution_count": 30,
      "id": "bebabe05",
      "metadata": {
        "scrolled": true,
        "colab": {
          "base_uri": "https://localhost:8080/",
          "height": 206
        },
        "id": "bebabe05",
        "outputId": "84b59275-c620-4147-c3f1-c2fec608da9d"
      },
      "outputs": [
        {
          "output_type": "execute_result",
          "data": {
            "text/plain": [
              "       Lead Name   Location         Status  \\\n",
              "0           Raja  hyderabad  not converted   \n",
              "1  Anirudh Reddy       pune  not converted   \n",
              "2   Sapna Dewani  bangalore      converted   \n",
              "3         suresh     mumbai  not converted   \n",
              "4  Akshay Shinde  hyderabad  not converted   \n",
              "\n",
              "                                         Description  Status ID  \\\n",
              "0  14/8/prema: share me details, available in evn...          0   \n",
              "1  14/8/prema: cal me tmrw, shared details to ema...          0   \n",
              "2                                   16|AuG|moHan:rnr          1   \n",
              "3  14/8/17(Surendra):i want only Server 16|AuG|mo...          0   \n",
              "4  14/8/prema:rnr 16/8/prema: gave info, he said ...          0   \n",
              "\n",
              "                                        Cleaned_Desc  exc_name  \n",
              "0    prema share me details available in evng   p...     prema  \n",
              "1    prema cal me tmrw shared details to email   ...     prema  \n",
              "2                                         aug mohan      mohan  \n",
              "3     surendra  i want only server  aug mohan cal...  surendra  \n",
              "4    prema prema gave info he said he will revert...     prema  "
            ],
            "text/html": [
              "\n",
              "  <div id=\"df-36aba2f4-a175-4a84-99d6-23afb299ee20\">\n",
              "    <div class=\"colab-df-container\">\n",
              "      <div>\n",
              "<style scoped>\n",
              "    .dataframe tbody tr th:only-of-type {\n",
              "        vertical-align: middle;\n",
              "    }\n",
              "\n",
              "    .dataframe tbody tr th {\n",
              "        vertical-align: top;\n",
              "    }\n",
              "\n",
              "    .dataframe thead th {\n",
              "        text-align: right;\n",
              "    }\n",
              "</style>\n",
              "<table border=\"1\" class=\"dataframe\">\n",
              "  <thead>\n",
              "    <tr style=\"text-align: right;\">\n",
              "      <th></th>\n",
              "      <th>Lead Name</th>\n",
              "      <th>Location</th>\n",
              "      <th>Status</th>\n",
              "      <th>Description</th>\n",
              "      <th>Status ID</th>\n",
              "      <th>Cleaned_Desc</th>\n",
              "      <th>exc_name</th>\n",
              "    </tr>\n",
              "  </thead>\n",
              "  <tbody>\n",
              "    <tr>\n",
              "      <th>0</th>\n",
              "      <td>Raja</td>\n",
              "      <td>hyderabad</td>\n",
              "      <td>not converted</td>\n",
              "      <td>14/8/prema: share me details, available in evn...</td>\n",
              "      <td>0</td>\n",
              "      <td>prema share me details available in evng   p...</td>\n",
              "      <td>prema</td>\n",
              "    </tr>\n",
              "    <tr>\n",
              "      <th>1</th>\n",
              "      <td>Anirudh Reddy</td>\n",
              "      <td>pune</td>\n",
              "      <td>not converted</td>\n",
              "      <td>14/8/prema: cal me tmrw, shared details to ema...</td>\n",
              "      <td>0</td>\n",
              "      <td>prema cal me tmrw shared details to email   ...</td>\n",
              "      <td>prema</td>\n",
              "    </tr>\n",
              "    <tr>\n",
              "      <th>2</th>\n",
              "      <td>Sapna Dewani</td>\n",
              "      <td>bangalore</td>\n",
              "      <td>converted</td>\n",
              "      <td>16|AuG|moHan:rnr</td>\n",
              "      <td>1</td>\n",
              "      <td>aug mohan</td>\n",
              "      <td>mohan</td>\n",
              "    </tr>\n",
              "    <tr>\n",
              "      <th>3</th>\n",
              "      <td>suresh</td>\n",
              "      <td>mumbai</td>\n",
              "      <td>not converted</td>\n",
              "      <td>14/8/17(Surendra):i want only Server 16|AuG|mo...</td>\n",
              "      <td>0</td>\n",
              "      <td>surendra  i want only server  aug mohan cal...</td>\n",
              "      <td>surendra</td>\n",
              "    </tr>\n",
              "    <tr>\n",
              "      <th>4</th>\n",
              "      <td>Akshay Shinde</td>\n",
              "      <td>hyderabad</td>\n",
              "      <td>not converted</td>\n",
              "      <td>14/8/prema:rnr 16/8/prema: gave info, he said ...</td>\n",
              "      <td>0</td>\n",
              "      <td>prema prema gave info he said he will revert...</td>\n",
              "      <td>prema</td>\n",
              "    </tr>\n",
              "  </tbody>\n",
              "</table>\n",
              "</div>\n",
              "      <button class=\"colab-df-convert\" onclick=\"convertToInteractive('df-36aba2f4-a175-4a84-99d6-23afb299ee20')\"\n",
              "              title=\"Convert this dataframe to an interactive table.\"\n",
              "              style=\"display:none;\">\n",
              "        \n",
              "  <svg xmlns=\"http://www.w3.org/2000/svg\" height=\"24px\"viewBox=\"0 0 24 24\"\n",
              "       width=\"24px\">\n",
              "    <path d=\"M0 0h24v24H0V0z\" fill=\"none\"/>\n",
              "    <path d=\"M18.56 5.44l.94 2.06.94-2.06 2.06-.94-2.06-.94-.94-2.06-.94 2.06-2.06.94zm-11 1L8.5 8.5l.94-2.06 2.06-.94-2.06-.94L8.5 2.5l-.94 2.06-2.06.94zm10 10l.94 2.06.94-2.06 2.06-.94-2.06-.94-.94-2.06-.94 2.06-2.06.94z\"/><path d=\"M17.41 7.96l-1.37-1.37c-.4-.4-.92-.59-1.43-.59-.52 0-1.04.2-1.43.59L10.3 9.45l-7.72 7.72c-.78.78-.78 2.05 0 2.83L4 21.41c.39.39.9.59 1.41.59.51 0 1.02-.2 1.41-.59l7.78-7.78 2.81-2.81c.8-.78.8-2.07 0-2.86zM5.41 20L4 18.59l7.72-7.72 1.47 1.35L5.41 20z\"/>\n",
              "  </svg>\n",
              "      </button>\n",
              "      \n",
              "  <style>\n",
              "    .colab-df-container {\n",
              "      display:flex;\n",
              "      flex-wrap:wrap;\n",
              "      gap: 12px;\n",
              "    }\n",
              "\n",
              "    .colab-df-convert {\n",
              "      background-color: #E8F0FE;\n",
              "      border: none;\n",
              "      border-radius: 50%;\n",
              "      cursor: pointer;\n",
              "      display: none;\n",
              "      fill: #1967D2;\n",
              "      height: 32px;\n",
              "      padding: 0 0 0 0;\n",
              "      width: 32px;\n",
              "    }\n",
              "\n",
              "    .colab-df-convert:hover {\n",
              "      background-color: #E2EBFA;\n",
              "      box-shadow: 0px 1px 2px rgba(60, 64, 67, 0.3), 0px 1px 3px 1px rgba(60, 64, 67, 0.15);\n",
              "      fill: #174EA6;\n",
              "    }\n",
              "\n",
              "    [theme=dark] .colab-df-convert {\n",
              "      background-color: #3B4455;\n",
              "      fill: #D2E3FC;\n",
              "    }\n",
              "\n",
              "    [theme=dark] .colab-df-convert:hover {\n",
              "      background-color: #434B5C;\n",
              "      box-shadow: 0px 1px 3px 1px rgba(0, 0, 0, 0.15);\n",
              "      filter: drop-shadow(0px 1px 2px rgba(0, 0, 0, 0.3));\n",
              "      fill: #FFFFFF;\n",
              "    }\n",
              "  </style>\n",
              "\n",
              "      <script>\n",
              "        const buttonEl =\n",
              "          document.querySelector('#df-36aba2f4-a175-4a84-99d6-23afb299ee20 button.colab-df-convert');\n",
              "        buttonEl.style.display =\n",
              "          google.colab.kernel.accessAllowed ? 'block' : 'none';\n",
              "\n",
              "        async function convertToInteractive(key) {\n",
              "          const element = document.querySelector('#df-36aba2f4-a175-4a84-99d6-23afb299ee20');\n",
              "          const dataTable =\n",
              "            await google.colab.kernel.invokeFunction('convertToInteractive',\n",
              "                                                     [key], {});\n",
              "          if (!dataTable) return;\n",
              "\n",
              "          const docLinkHtml = 'Like what you see? Visit the ' +\n",
              "            '<a target=\"_blank\" href=https://colab.research.google.com/notebooks/data_table.ipynb>data table notebook</a>'\n",
              "            + ' to learn more about interactive tables.';\n",
              "          element.innerHTML = '';\n",
              "          dataTable['output_type'] = 'display_data';\n",
              "          await google.colab.output.renderOutput(dataTable, element);\n",
              "          const docLink = document.createElement('div');\n",
              "          docLink.innerHTML = docLinkHtml;\n",
              "          element.appendChild(docLink);\n",
              "        }\n",
              "      </script>\n",
              "    </div>\n",
              "  </div>\n",
              "  "
            ]
          },
          "metadata": {},
          "execution_count": 30
        }
      ],
      "source": [
        "dataset.head()"
      ]
    },
    {
      "cell_type": "code",
      "execution_count": 31,
      "id": "8ab18d26",
      "metadata": {
        "colab": {
          "base_uri": "https://localhost:8080/",
          "height": 424
        },
        "id": "8ab18d26",
        "outputId": "2d2687d6-987e-49af-d472-670d20d33702"
      },
      "outputs": [
        {
          "output_type": "execute_result",
          "data": {
            "text/plain": [
              "                                           Cleaned_Desc  Status ID\n",
              "0       prema share me details available in evng   p...          0\n",
              "1       prema cal me tmrw shared details to email   ...          0\n",
              "2                                            aug mohan           1\n",
              "3        surendra  i want only server  aug mohan cal...          0\n",
              "4       prema prema gave info he said he will revert...          0\n",
              "...                                                 ...        ...\n",
              "996      surendra  please send me details tomorrow a...          0\n",
              "997      prema  need ct but our venue is far shared ...          0\n",
              "998    apr mohan intrstd in evng batch trail perd  a...          0\n",
              "999      surendra  please share me details    gowtha...          0\n",
              "1000     prema  shared details need only cert    pre...          0\n",
              "\n",
              "[974 rows x 2 columns]"
            ],
            "text/html": [
              "\n",
              "  <div id=\"df-4ab99562-87ed-436d-ba87-1046ffe2cdca\">\n",
              "    <div class=\"colab-df-container\">\n",
              "      <div>\n",
              "<style scoped>\n",
              "    .dataframe tbody tr th:only-of-type {\n",
              "        vertical-align: middle;\n",
              "    }\n",
              "\n",
              "    .dataframe tbody tr th {\n",
              "        vertical-align: top;\n",
              "    }\n",
              "\n",
              "    .dataframe thead th {\n",
              "        text-align: right;\n",
              "    }\n",
              "</style>\n",
              "<table border=\"1\" class=\"dataframe\">\n",
              "  <thead>\n",
              "    <tr style=\"text-align: right;\">\n",
              "      <th></th>\n",
              "      <th>Cleaned_Desc</th>\n",
              "      <th>Status ID</th>\n",
              "    </tr>\n",
              "  </thead>\n",
              "  <tbody>\n",
              "    <tr>\n",
              "      <th>0</th>\n",
              "      <td>prema share me details available in evng   p...</td>\n",
              "      <td>0</td>\n",
              "    </tr>\n",
              "    <tr>\n",
              "      <th>1</th>\n",
              "      <td>prema cal me tmrw shared details to email   ...</td>\n",
              "      <td>0</td>\n",
              "    </tr>\n",
              "    <tr>\n",
              "      <th>2</th>\n",
              "      <td>aug mohan</td>\n",
              "      <td>1</td>\n",
              "    </tr>\n",
              "    <tr>\n",
              "      <th>3</th>\n",
              "      <td>surendra  i want only server  aug mohan cal...</td>\n",
              "      <td>0</td>\n",
              "    </tr>\n",
              "    <tr>\n",
              "      <th>4</th>\n",
              "      <td>prema prema gave info he said he will revert...</td>\n",
              "      <td>0</td>\n",
              "    </tr>\n",
              "    <tr>\n",
              "      <th>...</th>\n",
              "      <td>...</td>\n",
              "      <td>...</td>\n",
              "    </tr>\n",
              "    <tr>\n",
              "      <th>996</th>\n",
              "      <td>surendra  please send me details tomorrow a...</td>\n",
              "      <td>0</td>\n",
              "    </tr>\n",
              "    <tr>\n",
              "      <th>997</th>\n",
              "      <td>prema  need ct but our venue is far shared ...</td>\n",
              "      <td>0</td>\n",
              "    </tr>\n",
              "    <tr>\n",
              "      <th>998</th>\n",
              "      <td>apr mohan intrstd in evng batch trail perd  a...</td>\n",
              "      <td>0</td>\n",
              "    </tr>\n",
              "    <tr>\n",
              "      <th>999</th>\n",
              "      <td>surendra  please share me details    gowtha...</td>\n",
              "      <td>0</td>\n",
              "    </tr>\n",
              "    <tr>\n",
              "      <th>1000</th>\n",
              "      <td>prema  shared details need only cert    pre...</td>\n",
              "      <td>0</td>\n",
              "    </tr>\n",
              "  </tbody>\n",
              "</table>\n",
              "<p>974 rows × 2 columns</p>\n",
              "</div>\n",
              "      <button class=\"colab-df-convert\" onclick=\"convertToInteractive('df-4ab99562-87ed-436d-ba87-1046ffe2cdca')\"\n",
              "              title=\"Convert this dataframe to an interactive table.\"\n",
              "              style=\"display:none;\">\n",
              "        \n",
              "  <svg xmlns=\"http://www.w3.org/2000/svg\" height=\"24px\"viewBox=\"0 0 24 24\"\n",
              "       width=\"24px\">\n",
              "    <path d=\"M0 0h24v24H0V0z\" fill=\"none\"/>\n",
              "    <path d=\"M18.56 5.44l.94 2.06.94-2.06 2.06-.94-2.06-.94-.94-2.06-.94 2.06-2.06.94zm-11 1L8.5 8.5l.94-2.06 2.06-.94-2.06-.94L8.5 2.5l-.94 2.06-2.06.94zm10 10l.94 2.06.94-2.06 2.06-.94-2.06-.94-.94-2.06-.94 2.06-2.06.94z\"/><path d=\"M17.41 7.96l-1.37-1.37c-.4-.4-.92-.59-1.43-.59-.52 0-1.04.2-1.43.59L10.3 9.45l-7.72 7.72c-.78.78-.78 2.05 0 2.83L4 21.41c.39.39.9.59 1.41.59.51 0 1.02-.2 1.41-.59l7.78-7.78 2.81-2.81c.8-.78.8-2.07 0-2.86zM5.41 20L4 18.59l7.72-7.72 1.47 1.35L5.41 20z\"/>\n",
              "  </svg>\n",
              "      </button>\n",
              "      \n",
              "  <style>\n",
              "    .colab-df-container {\n",
              "      display:flex;\n",
              "      flex-wrap:wrap;\n",
              "      gap: 12px;\n",
              "    }\n",
              "\n",
              "    .colab-df-convert {\n",
              "      background-color: #E8F0FE;\n",
              "      border: none;\n",
              "      border-radius: 50%;\n",
              "      cursor: pointer;\n",
              "      display: none;\n",
              "      fill: #1967D2;\n",
              "      height: 32px;\n",
              "      padding: 0 0 0 0;\n",
              "      width: 32px;\n",
              "    }\n",
              "\n",
              "    .colab-df-convert:hover {\n",
              "      background-color: #E2EBFA;\n",
              "      box-shadow: 0px 1px 2px rgba(60, 64, 67, 0.3), 0px 1px 3px 1px rgba(60, 64, 67, 0.15);\n",
              "      fill: #174EA6;\n",
              "    }\n",
              "\n",
              "    [theme=dark] .colab-df-convert {\n",
              "      background-color: #3B4455;\n",
              "      fill: #D2E3FC;\n",
              "    }\n",
              "\n",
              "    [theme=dark] .colab-df-convert:hover {\n",
              "      background-color: #434B5C;\n",
              "      box-shadow: 0px 1px 3px 1px rgba(0, 0, 0, 0.15);\n",
              "      filter: drop-shadow(0px 1px 2px rgba(0, 0, 0, 0.3));\n",
              "      fill: #FFFFFF;\n",
              "    }\n",
              "  </style>\n",
              "\n",
              "      <script>\n",
              "        const buttonEl =\n",
              "          document.querySelector('#df-4ab99562-87ed-436d-ba87-1046ffe2cdca button.colab-df-convert');\n",
              "        buttonEl.style.display =\n",
              "          google.colab.kernel.accessAllowed ? 'block' : 'none';\n",
              "\n",
              "        async function convertToInteractive(key) {\n",
              "          const element = document.querySelector('#df-4ab99562-87ed-436d-ba87-1046ffe2cdca');\n",
              "          const dataTable =\n",
              "            await google.colab.kernel.invokeFunction('convertToInteractive',\n",
              "                                                     [key], {});\n",
              "          if (!dataTable) return;\n",
              "\n",
              "          const docLinkHtml = 'Like what you see? Visit the ' +\n",
              "            '<a target=\"_blank\" href=https://colab.research.google.com/notebooks/data_table.ipynb>data table notebook</a>'\n",
              "            + ' to learn more about interactive tables.';\n",
              "          element.innerHTML = '';\n",
              "          dataTable['output_type'] = 'display_data';\n",
              "          await google.colab.output.renderOutput(dataTable, element);\n",
              "          const docLink = document.createElement('div');\n",
              "          docLink.innerHTML = docLinkHtml;\n",
              "          element.appendChild(docLink);\n",
              "        }\n",
              "      </script>\n",
              "    </div>\n",
              "  </div>\n",
              "  "
            ]
          },
          "metadata": {},
          "execution_count": 31
        }
      ],
      "source": [
        "df = dataset[['Cleaned_Desc','Status ID']]\n",
        "df"
      ]
    },
    {
      "cell_type": "code",
      "execution_count": 32,
      "id": "db5311d8",
      "metadata": {
        "id": "db5311d8"
      },
      "outputs": [],
      "source": [
        "# Generating the Bag of Words Model\n",
        "# Initializing the CountVectorizer object\n",
        "cv = CountVectorizer(max_features=5000, stop_words='english')\n",
        "\n",
        "# Creating the bag of words model\n",
        "X_cv = cv.fit_transform(df['Cleaned_Desc']).toarray()"
      ]
    },
    {
      "cell_type": "code",
      "execution_count": 33,
      "id": "d266777a",
      "metadata": {
        "id": "d266777a"
      },
      "outputs": [],
      "source": [
        "y_cv = df['Status ID']"
      ]
    },
    {
      "cell_type": "code",
      "execution_count": 34,
      "id": "684d18ce",
      "metadata": {
        "id": "684d18ce"
      },
      "outputs": [],
      "source": [
        "## train-test-split\n",
        "X_cvtrain, X_cvtest, y_cvtrain, y_cvtest = train_test_split(X_cv, y_cv, test_size = 0.30, random_state = 0)"
      ]
    },
    {
      "cell_type": "markdown",
      "source": [
        "## Multi-Nominal Naive Bayes Model Count vectorizer"
      ],
      "metadata": {
        "id": "hwbXW0_MX-RN"
      },
      "id": "hwbXW0_MX-RN"
    },
    {
      "cell_type": "code",
      "source": [
        "# M.NB Model\n",
        "model_cNB = MultinomialNB()\n",
        "model_cNB.fit(X_cvtrain, y_cvtrain)\n",
        "\n",
        "pred_cNB = model_cNB.predict(X_cvtest)"
      ],
      "metadata": {
        "id": "XSMgEviGlssV"
      },
      "id": "XSMgEviGlssV",
      "execution_count": 35,
      "outputs": []
    },
    {
      "cell_type": "code",
      "source": [
        "# Accuracy, Precision and Recall\n",
        "nb_cv_score1 = accuracy_score(y_cvtest,pred_cNB)\n",
        "nb_cv_score2 = precision_score(y_cvtest,pred_cNB)\n",
        "nb_cv_score3= recall_score(y_cvtest,pred_cNB)\n",
        "\n",
        "# Confusion matrix\n",
        "nb_cm = confusion_matrix(y_cvtest, pred_cNB)"
      ],
      "metadata": {
        "id": "exTVzmvpXda9"
      },
      "id": "exTVzmvpXda9",
      "execution_count": 36,
      "outputs": []
    },
    {
      "cell_type": "code",
      "source": [
        "# Print results\n",
        "print(\"---- Model Evaluation ----\")\n",
        "print(\"Accuracy score: {:.2%}\".format(nb_cv_score1))\n",
        "print(\"Precision score: {:.2%}\".format(nb_cv_score2))\n",
        "print(\"Recall score: {:.2%}\".format(nb_cv_score3))\n",
        "print(\"Confusion matrix:\\n\", nb_cm)"
      ],
      "metadata": {
        "colab": {
          "base_uri": "https://localhost:8080/"
        },
        "id": "cOb29YtdXh1K",
        "outputId": "aa9a6438-9566-4b3a-923d-743c9bd74d97"
      },
      "id": "cOb29YtdXh1K",
      "execution_count": 37,
      "outputs": [
        {
          "output_type": "stream",
          "name": "stdout",
          "text": [
            "---- Model Evaluation ----\n",
            "Accuracy score: 84.30%\n",
            "Precision score: 18.18%\n",
            "Recall score: 12.50%\n",
            "Confusion matrix:\n",
            " [[243  18]\n",
            " [ 28   4]]\n"
          ]
        }
      ]
    },
    {
      "cell_type": "code",
      "source": [
        "# Input text to be classified\n",
        "input_text = \"I bought the course but I didn't like it.\"\n",
        "\n",
        "# Vectorize input text using the CountVectorizer object\n",
        "input_vec = cv.transform([input_text])\n",
        "\n",
        "# Predict the class using the trained classifier\n",
        "predicted_class = model_cNB.predict(input_vec)\n",
        "\n",
        "# Map the predicted class to a label\n",
        "if predicted_class == 0:\n",
        "    label = \"Not Converted\"\n",
        "elif predicted_class == 1:\n",
        "    label = \"Converted\"\n",
        "\n",
        "# Print the predicted label\n",
        "print(f\"The input text '{input_text}' is classified as '{label}'.\")\n"
      ],
      "metadata": {
        "id": "vMvvWzKJlVbU",
        "colab": {
          "base_uri": "https://localhost:8080/"
        },
        "outputId": "da80cfc2-085d-4f7e-8f7c-e158e477ba05"
      },
      "id": "vMvvWzKJlVbU",
      "execution_count": 38,
      "outputs": [
        {
          "output_type": "stream",
          "name": "stdout",
          "text": [
            "The input text 'I bought the course but I didn't like it.' is classified as 'Not Converted'.\n"
          ]
        }
      ]
    },
    {
      "cell_type": "markdown",
      "source": [
        "## Logistic Regression Model Count vectorizer"
      ],
      "metadata": {
        "id": "lo8lylR7lgNB"
      },
      "id": "lo8lylR7lgNB"
    },
    {
      "cell_type": "code",
      "source": [
        "## Logistic Regression Model\n",
        "model_cLR = LogisticRegression()\n",
        "model_cLR.fit(X_cvtrain, y_cvtrain)\n",
        "\n",
        "pred_cLR = model_cLR.predict(X_cvtest)"
      ],
      "metadata": {
        "id": "UNBmdUmklfeU"
      },
      "id": "UNBmdUmklfeU",
      "execution_count": 39,
      "outputs": []
    },
    {
      "cell_type": "code",
      "source": [
        "# Accuracy, Precision and Recall\n",
        "lr_cv_score1 = accuracy_score(y_cvtest,pred_cLR)\n",
        "lr_cv_score2 = precision_score(y_cvtest,pred_cLR)\n",
        "lr_cv_score3= recall_score(y_cvtest,pred_cLR)\n",
        "\n",
        "# Confusion matrix\n",
        "lr_cm = confusion_matrix(y_cvtest, pred_cLR)"
      ],
      "metadata": {
        "id": "DGrFUTjbl3co"
      },
      "id": "DGrFUTjbl3co",
      "execution_count": 40,
      "outputs": []
    },
    {
      "cell_type": "code",
      "source": [
        "# Print results\n",
        "print(\"---- Model Evaluation ----\")\n",
        "print(\"Accuracy score: {:.2%}\".format(lr_cv_score1))\n",
        "print(\"Precision score: {:.2%}\".format(lr_cv_score2))\n",
        "print(\"Recall score: {:.2%}\".format(lr_cv_score3))\n",
        "print(\"Confusion matrix:\\n\", lr_cm)"
      ],
      "metadata": {
        "colab": {
          "base_uri": "https://localhost:8080/"
        },
        "id": "rkZQR82WnXq9",
        "outputId": "c17d41d1-5e7e-46fe-f297-1b2cd600607b"
      },
      "id": "rkZQR82WnXq9",
      "execution_count": 41,
      "outputs": [
        {
          "output_type": "stream",
          "name": "stdout",
          "text": [
            "---- Model Evaluation ----\n",
            "Accuracy score: 87.03%\n",
            "Precision score: 12.50%\n",
            "Recall score: 3.12%\n",
            "Confusion matrix:\n",
            " [[254   7]\n",
            " [ 31   1]]\n"
          ]
        }
      ]
    },
    {
      "cell_type": "code",
      "source": [
        "# Input text to be classified\n",
        "input_text = \"raju: i had already discussed with surendra and informed him that i wnat this curse.\"\n",
        "\n",
        "# Vectorize input text using the CountVectorizer object\n",
        "input_vec = cv.transform([input_text])\n",
        "\n",
        "# Predict the class using the trained classifier\n",
        "predicted_class = model_cLR.predict(input_vec)\n",
        "\n",
        "# Map the predicted class to a label\n",
        "if predicted_class == 0:\n",
        "    label = \"Not Converted\"\n",
        "elif predicted_class == 1:\n",
        "    label = \"Converted\"\n",
        "\n",
        "# Print the predicted label\n",
        "print(f\"The input text '{input_text}' is classified as '{label}'.\")"
      ],
      "metadata": {
        "colab": {
          "base_uri": "https://localhost:8080/"
        },
        "id": "yEtow76GnlMR",
        "outputId": "66c01614-3ea6-437b-b636-15be30c21043"
      },
      "id": "yEtow76GnlMR",
      "execution_count": 42,
      "outputs": [
        {
          "output_type": "stream",
          "name": "stdout",
          "text": [
            "The input text 'raju: i had already discussed with surendra and informed him that i wnat this curse.' is classified as 'Not Converted'.\n"
          ]
        }
      ]
    },
    {
      "cell_type": "markdown",
      "source": [
        "## Random Forest Model with Count vectorizer"
      ],
      "metadata": {
        "id": "tiI8fmfzZkWH"
      },
      "id": "tiI8fmfzZkWH"
    },
    {
      "cell_type": "code",
      "execution_count": 43,
      "id": "40b74fef",
      "metadata": {
        "id": "40b74fef"
      },
      "outputs": [],
      "source": [
        "# RF Model \n",
        "\n",
        "model_cRF = RandomForestClassifier(n_estimators=100, criterion='entropy')\n",
        "model_cRF.fit(X_cvtrain, y_cvtrain)\n",
        "\n",
        "pred_cRF = model_cRF.predict(X_cvtest)"
      ]
    },
    {
      "cell_type": "code",
      "execution_count": 44,
      "id": "aef13706",
      "metadata": {
        "id": "aef13706"
      },
      "outputs": [],
      "source": [
        "# Accuracy, Precision and Recall\n",
        "rf_cv_score1 = accuracy_score(y_cvtest,pred_cRF)\n",
        "rf_cv_score2 = precision_score(y_cvtest,pred_cRF)\n",
        "rf_cv_score3= recall_score(y_cvtest,pred_cRF)\n",
        "\n",
        "# Confusion matrix\n",
        "rf_cm = confusion_matrix(y_cvtest, pred_cRF)"
      ]
    },
    {
      "cell_type": "code",
      "execution_count": 45,
      "id": "79a20fab",
      "metadata": {
        "colab": {
          "base_uri": "https://localhost:8080/"
        },
        "id": "79a20fab",
        "outputId": "63382147-ef74-43fe-ccf0-0d1f4d83ee12"
      },
      "outputs": [
        {
          "output_type": "stream",
          "name": "stdout",
          "text": [
            "---- Model Evaluation ----\n",
            "Accuracy score: 87.37%\n",
            "Precision score: 14.29%\n",
            "Recall score: 3.12%\n",
            "Confusion matrix:\n",
            " [[255   6]\n",
            " [ 31   1]]\n"
          ]
        }
      ],
      "source": [
        "# Print results\n",
        "print(\"---- Model Evaluation ----\")\n",
        "print(\"Accuracy score: {:.2%}\".format(rf_cv_score1))\n",
        "print(\"Precision score: {:.2%}\".format(rf_cv_score2))\n",
        "print(\"Recall score: {:.2%}\".format(rf_cv_score3))\n",
        "print(\"Confusion matrix:\\n\", rf_cm)"
      ]
    },
    {
      "cell_type": "code",
      "source": [
        "# Input text to be classified\n",
        "input_text = \"raju: I buied toromw, ineed now.\"\n",
        "\n",
        "# Vectorize input text using the CountVectorizer object\n",
        "input_vec = cv.transform([input_text])\n",
        "\n",
        "# Predict the class using the trained classifier\n",
        "predicted_class = model_cRF.predict(input_vec)\n",
        "\n",
        "# Map the predicted class to a label\n",
        "if predicted_class == 0:\n",
        "    label = \"Not Converted\"\n",
        "elif predicted_class == 1:\n",
        "    label = \"Converted\"\n",
        "\n",
        "# Print the predicted label\n",
        "print(f\"The input text '{input_text}' is classified as '{label}'.\")"
      ],
      "metadata": {
        "colab": {
          "base_uri": "https://localhost:8080/"
        },
        "id": "o1hZrdKHhDLJ",
        "outputId": "60ac2ca3-6022-44a1-cb61-ae978bcf7858"
      },
      "id": "o1hZrdKHhDLJ",
      "execution_count": 46,
      "outputs": [
        {
          "output_type": "stream",
          "name": "stdout",
          "text": [
            "The input text 'raju: I buied toromw, ineed now.' is classified as 'Not Converted'.\n"
          ]
        }
      ]
    },
    {
      "cell_type": "markdown",
      "source": [
        "## Oversampling count vectors X & y to improve the ML model"
      ],
      "metadata": {
        "id": "WPvgYpw7Jy9C"
      },
      "id": "WPvgYpw7Jy9C"
    },
    {
      "cell_type": "code",
      "source": [
        "## Oversampling count vectors X & y to improve the ML model\n",
        "\n",
        "oversample = RandomOverSampler(sampling_strategy='minority')\n",
        "\n",
        "X_cvover, y_cvover = oversample.fit_resample(X_cv, y_cv)\n",
        "y_cvover = pd.Series(y_cvover)\n",
        "\n",
        "y_cvover.value_counts()\n",
        "\n",
        "## train-test-split\n",
        "X_Ocvtrain, X_Ocvtest, y_Ocvtrain, y_Ocvtest = train_test_split(X_cvover, y_cvover, test_size = 0.30, random_state = 43)"
      ],
      "metadata": {
        "id": "64PUL_rNiF-D"
      },
      "id": "64PUL_rNiF-D",
      "execution_count": 47,
      "outputs": []
    },
    {
      "cell_type": "code",
      "source": [
        "# Define oversampler and apply to X_cv and y_cv\n",
        "oversampler = RandomOverSampler(sampling_strategy='minority')\n",
        "X_cv_over, y_cv_over = oversampler.fit_resample(X_cv, y_cv)\n",
        "\n",
        "# Convert y_cv_over to a pandas Series\n",
        "y_cv_over = pd.Series(y_cv_over)"
      ],
      "metadata": {
        "id": "fXXVzoGXiVrd"
      },
      "id": "fXXVzoGXiVrd",
      "execution_count": 48,
      "outputs": []
    },
    {
      "cell_type": "code",
      "source": [
        "# Print class counts for y_cv_over\n",
        "print(y_cv_over.value_counts())"
      ],
      "metadata": {
        "colab": {
          "base_uri": "https://localhost:8080/"
        },
        "id": "lGltGjmF0vYs",
        "outputId": "7d541a87-e818-48e0-dd27-f41e369b7c91"
      },
      "id": "lGltGjmF0vYs",
      "execution_count": 49,
      "outputs": [
        {
          "output_type": "stream",
          "name": "stdout",
          "text": [
            "0    845\n",
            "1    845\n",
            "Name: Status ID, dtype: int64\n"
          ]
        }
      ]
    },
    {
      "cell_type": "code",
      "source": [
        "# Perform train-test-split on the oversampled data\n",
        "X_train, X_test, y_train, y_test = train_test_split(X_cv_over, y_cv_over, test_size=0.3, random_state=43)"
      ],
      "metadata": {
        "id": "Xit2aBTq0ziz"
      },
      "id": "Xit2aBTq0ziz",
      "execution_count": 50,
      "outputs": []
    },
    {
      "cell_type": "markdown",
      "source": [
        "# ML Models with Oversampled Data"
      ],
      "metadata": {
        "id": "_rZyk4As3HDb"
      },
      "id": "_rZyk4As3HDb"
    },
    {
      "cell_type": "markdown",
      "source": [
        "## M.NB Model with Oversampled data with Count vectorizer"
      ],
      "metadata": {
        "id": "Kt9VnwiSJd4t"
      },
      "id": "Kt9VnwiSJd4t"
    },
    {
      "cell_type": "code",
      "source": [
        "## M.NB Model with Oversampled data\n",
        "model_cNB.fit(X_train, y_train)\n",
        "\n",
        "pred_OcNB = model_cNB.predict(X_test)"
      ],
      "metadata": {
        "id": "PCDXaKYq1BkZ"
      },
      "id": "PCDXaKYq1BkZ",
      "execution_count": 51,
      "outputs": []
    },
    {
      "cell_type": "code",
      "source": [
        "# Accuracy, Precision and Recall\n",
        "nb_Ocv_score1 = accuracy_score(y_test,pred_OcNB)\n",
        "nb_Ocv_score2 = precision_score(y_test,pred_OcNB)\n",
        "nb_Ocv_score3= recall_score(y_test,pred_OcNB)\n",
        "\n",
        "# Confusion matrix\n",
        "nb_Ocm = confusion_matrix(y_test, pred_OcNB)"
      ],
      "metadata": {
        "id": "m_rlnfwU1BVO"
      },
      "id": "m_rlnfwU1BVO",
      "execution_count": 52,
      "outputs": []
    },
    {
      "cell_type": "code",
      "source": [
        "# Print results\n",
        "print(\"---- Model Evaluation ----\")\n",
        "print(\"Accuracy score: {:.2%}\".format(nb_Ocv_score1))\n",
        "print(\"Precision score: {:.2%}\".format(nb_Ocv_score2))\n",
        "print(\"Recall score: {:.2%}\".format(nb_Ocv_score3))\n",
        "print(\"Confusion matrix:\\n\", nb_Ocm)"
      ],
      "metadata": {
        "colab": {
          "base_uri": "https://localhost:8080/"
        },
        "id": "_pN0ie701Aqg",
        "outputId": "af7443a3-46df-4ec8-8903-fcf5283f714d"
      },
      "id": "_pN0ie701Aqg",
      "execution_count": 53,
      "outputs": [
        {
          "output_type": "stream",
          "name": "stdout",
          "text": [
            "---- Model Evaluation ----\n",
            "Accuracy score: 73.37%\n",
            "Precision score: 72.89%\n",
            "Recall score: 76.54%\n",
            "Confusion matrix:\n",
            " [[173  74]\n",
            " [ 61 199]]\n"
          ]
        }
      ]
    },
    {
      "cell_type": "markdown",
      "source": [
        "## Logistic Reggression Model with Oversampled data and Count vectorizer"
      ],
      "metadata": {
        "id": "g3RC7wBfJOuQ"
      },
      "id": "g3RC7wBfJOuQ"
    },
    {
      "cell_type": "code",
      "source": [
        "# Logistic Reggression Model with Oversampled data and Count vectorizer\n",
        "model_cLR.fit(X_train, y_train)\n",
        "\n",
        "pred_OcLR = model_cLR.predict(X_test)"
      ],
      "metadata": {
        "colab": {
          "base_uri": "https://localhost:8080/"
        },
        "id": "OdurlpU92487",
        "outputId": "b665683f-dcee-4e97-a3f0-492a7e809798"
      },
      "id": "OdurlpU92487",
      "execution_count": 54,
      "outputs": [
        {
          "output_type": "stream",
          "name": "stderr",
          "text": [
            "/usr/local/lib/python3.9/dist-packages/sklearn/linear_model/_logistic.py:458: ConvergenceWarning:\n",
            "\n",
            "lbfgs failed to converge (status=1):\n",
            "STOP: TOTAL NO. of ITERATIONS REACHED LIMIT.\n",
            "\n",
            "Increase the number of iterations (max_iter) or scale the data as shown in:\n",
            "    https://scikit-learn.org/stable/modules/preprocessing.html\n",
            "Please also refer to the documentation for alternative solver options:\n",
            "    https://scikit-learn.org/stable/modules/linear_model.html#logistic-regression\n",
            "\n"
          ]
        }
      ]
    },
    {
      "cell_type": "code",
      "source": [
        "# Accuracy, Precision and Recall\n",
        "lr_Ocv_score1 = accuracy_score(y_test,pred_OcLR)\n",
        "lr_Ocv_score2 = precision_score(y_test,pred_OcLR)\n",
        "lr_Ocv_score3= recall_score(y_test,pred_OcLR)\n",
        "\n",
        "# Confusion matrix\n",
        "lr_Ocm = confusion_matrix(y_test, pred_OcLR)"
      ],
      "metadata": {
        "id": "rioYTlDh33f5"
      },
      "id": "rioYTlDh33f5",
      "execution_count": 55,
      "outputs": []
    },
    {
      "cell_type": "code",
      "source": [
        "# Print results\n",
        "print(\"---- Model Evaluation ----\")\n",
        "print(\"Accuracy score: {:.2%}\".format(lr_Ocv_score1))\n",
        "print(\"Precision score: {:.2%}\".format(lr_Ocv_score2))\n",
        "print(\"Recall score: {:.2%}\".format(lr_Ocv_score3))\n",
        "print(\"Confusion matrix:\\n\", lr_Ocm)"
      ],
      "metadata": {
        "colab": {
          "base_uri": "https://localhost:8080/"
        },
        "id": "EVAPhqDA33UE",
        "outputId": "0a3af0ad-17ec-4c22-8149-9ad2d42553cf"
      },
      "id": "EVAPhqDA33UE",
      "execution_count": 56,
      "outputs": [
        {
          "output_type": "stream",
          "name": "stdout",
          "text": [
            "---- Model Evaluation ----\n",
            "Accuracy score: 84.02%\n",
            "Precision score: 79.73%\n",
            "Recall score: 92.31%\n",
            "Confusion matrix:\n",
            " [[186  61]\n",
            " [ 20 240]]\n"
          ]
        }
      ]
    },
    {
      "cell_type": "markdown",
      "source": [
        "## Random Forest Model with Oversampled data with Count vectorizer"
      ],
      "metadata": {
        "id": "AZ9is7vqJR84"
      },
      "id": "AZ9is7vqJR84"
    },
    {
      "cell_type": "code",
      "source": [
        "# Random Forest Model with Oversampled data\n",
        "model_cRF.fit(X_train, y_train)\n",
        "\n",
        "pred_OcRF = model_cRF.predict(X_test)"
      ],
      "metadata": {
        "id": "N_n3BYKu33Lj"
      },
      "id": "N_n3BYKu33Lj",
      "execution_count": 57,
      "outputs": []
    },
    {
      "cell_type": "code",
      "source": [
        "# Accuracy, Precision and Recall\n",
        "rf_Ocv_score1 = accuracy_score(y_test,pred_OcRF)\n",
        "rf_Ocv_score2 = precision_score(y_test,pred_OcRF)\n",
        "rf_Ocv_score3= recall_score(y_test,pred_OcRF)\n",
        "\n",
        "# Confusion matrix\n",
        "rf_Ocm = confusion_matrix(y_test, pred_OcRF)"
      ],
      "metadata": {
        "id": "l15HqDE9-5jy"
      },
      "id": "l15HqDE9-5jy",
      "execution_count": 58,
      "outputs": []
    },
    {
      "cell_type": "code",
      "source": [
        "# Print results\n",
        "print(\"---- Model Evaluation ----\")\n",
        "print(\"Accuracy score: {:.2%}\".format(rf_Ocv_score1))\n",
        "print(\"Precision score: {:.2%}\".format(rf_Ocv_score2))\n",
        "print(\"Recall score: {:.2%}\".format(rf_Ocv_score3))\n",
        "print(\"Confusion matrix:\\n\", rf_Ocm)"
      ],
      "metadata": {
        "colab": {
          "base_uri": "https://localhost:8080/"
        },
        "id": "c7SnjXcR-5cr",
        "outputId": "30379c47-1ea8-425c-be2a-298f9a6d7d7d"
      },
      "id": "c7SnjXcR-5cr",
      "execution_count": 59,
      "outputs": [
        {
          "output_type": "stream",
          "name": "stdout",
          "text": [
            "---- Model Evaluation ----\n",
            "Accuracy score: 96.06%\n",
            "Precision score: 92.86%\n",
            "Recall score: 100.00%\n",
            "Confusion matrix:\n",
            " [[227  20]\n",
            " [  0 260]]\n"
          ]
        }
      ]
    },
    {
      "cell_type": "code",
      "source": [
        "# Input text to be classified\n",
        "input_text = \"raju: Yesterday i called and liked the demo and purchased this course thankou.\"\n",
        "\n",
        "# Vectorize input text using the CountVectorizer object\n",
        "input_vec = cv.transform([input_text])\n",
        "\n",
        "# Predict the class using the trained classifier\n",
        "predicted_class = model_cRF.predict(input_vec)\n",
        "\n",
        "# Map the predicted class to a label\n",
        "if predicted_class == 0:\n",
        "    label = \"Not Converted\"\n",
        "elif predicted_class == 1:\n",
        "    label = \"Converted\"\n",
        "\n",
        "# Print the predicted label\n",
        "print(f\"The input text '{input_text}' is classified as '{label}'.\")"
      ],
      "metadata": {
        "colab": {
          "base_uri": "https://localhost:8080/"
        },
        "id": "ZH9EkSpC_fbz",
        "outputId": "96476775-ce78-4a31-d2db-55ba78ea22e7"
      },
      "id": "ZH9EkSpC_fbz",
      "execution_count": 60,
      "outputs": [
        {
          "output_type": "stream",
          "name": "stdout",
          "text": [
            "The input text 'raju: Yesterday i called and liked the demo and purchased this course thankou.' is classified as 'Not Converted'.\n"
          ]
        }
      ]
    },
    {
      "cell_type": "markdown",
      "source": [
        "### TFIDF Vectorizer"
      ],
      "metadata": {
        "id": "GJ9zvmLLBQbi"
      },
      "id": "GJ9zvmLLBQbi"
    },
    {
      "cell_type": "code",
      "execution_count": 61,
      "id": "f776997e",
      "metadata": {
        "id": "f776997e"
      },
      "outputs": [],
      "source": [
        "## TFIDF\n",
        "tfidf_model  = TfidfVectorizer()\n",
        "tfidf_vector = tfidf_model.fit_transform(df.Cleaned_Desc)"
      ]
    },
    {
      "cell_type": "code",
      "execution_count": 62,
      "id": "bb5a5dc6",
      "metadata": {
        "colab": {
          "base_uri": "https://localhost:8080/"
        },
        "id": "bb5a5dc6",
        "outputId": "65ed1be0-952e-4213-a6de-f48b6340319f"
      },
      "outputs": [
        {
          "output_type": "stream",
          "name": "stdout",
          "text": [
            "<class 'scipy.sparse._csr.csr_matrix'> (974, 1223)\n"
          ]
        }
      ],
      "source": [
        "print(type(tfidf_vector), tfidf_vector.shape)"
      ]
    },
    {
      "cell_type": "code",
      "execution_count": 63,
      "id": "7fcdf7ac",
      "metadata": {
        "colab": {
          "base_uri": "https://localhost:8080/"
        },
        "id": "7fcdf7ac",
        "outputId": "6ea1abae-c783-400f-b72f-c179cac56fbd"
      },
      "outputs": [
        {
          "output_type": "stream",
          "name": "stdout",
          "text": [
            "[[0. 0. 0. ... 0. 0. 0.]\n",
            " [0. 0. 0. ... 0. 0. 0.]\n",
            " [0. 0. 0. ... 0. 0. 0.]\n",
            " ...\n",
            " [0. 0. 0. ... 0. 0. 0.]\n",
            " [0. 0. 0. ... 0. 0. 0.]\n",
            " [0. 0. 0. ... 0. 0. 0.]]\n"
          ]
        }
      ],
      "source": [
        "tfidf_array = tfidf_vector.toarray()\n",
        "\n",
        "print(tfidf_array)"
      ]
    },
    {
      "cell_type": "code",
      "execution_count": 64,
      "id": "130695ab",
      "metadata": {
        "id": "130695ab"
      },
      "outputs": [],
      "source": [
        "words_set = tfidf_model.vocabulary_.keys()"
      ]
    },
    {
      "cell_type": "code",
      "execution_count": 65,
      "id": "c30573fd",
      "metadata": {
        "colab": {
          "base_uri": "https://localhost:8080/",
          "height": 488
        },
        "id": "c30573fd",
        "outputId": "ae74be96-5971-4643-e3c2-bfb5f940ff5c"
      },
      "outputs": [
        {
          "output_type": "execute_result",
          "data": {
            "text/plain": [
              "     prema  share   me  details  available   in  evng  postponed  the  plans  \\\n",
              "0      0.0    0.0  0.0      0.0        0.0  0.0   0.0        0.0  0.0    0.0   \n",
              "1      0.0    0.0  0.0      0.0        0.0  0.0   0.0        0.0  0.0    0.0   \n",
              "2      0.0    0.0  0.0      0.0        0.0  0.0   0.0        0.0  0.0    0.0   \n",
              "3      0.0    0.0  0.0      0.0        0.0  0.0   0.0        0.0  0.0    0.0   \n",
              "4      0.0    0.0  0.0      0.0        0.0  0.0   0.0        0.0  0.0    0.0   \n",
              "..     ...    ...  ...      ...        ...  ...   ...        ...  ...    ...   \n",
              "969    0.0    0.0  0.0      0.0        0.0  0.0   0.0        0.0  0.0    0.0   \n",
              "970    0.0    0.0  0.0      0.0        0.0  0.0   0.0        0.0  0.0    0.0   \n",
              "971    0.0    0.0  0.0      0.0        0.0  0.0   0.0        0.0  0.0    0.0   \n",
              "972    0.0    0.0  0.0      0.0        0.0  0.0   0.0        0.0  0.0    0.0   \n",
              "973    0.0    0.0  0.0      0.0        0.0  0.0   0.0        0.0  0.0    0.0   \n",
              "\n",
              "     ...  toay  concerned  stats  schdle  nneded  early   alomost  traning  \\\n",
              "0    ...   0.0        0.0    0.0     0.0     0.0    0.0  0.000000      0.0   \n",
              "1    ...   0.0        0.0    0.0     0.0     0.0    0.0  0.242543      0.0   \n",
              "2    ...   0.0        0.0    0.0     0.0     0.0    0.0  0.000000      0.0   \n",
              "3    ...   0.0        0.0    0.0     0.0     0.0    0.0  0.000000      0.0   \n",
              "4    ...   0.0        0.0    0.0     0.0     0.0    0.0  0.000000      0.0   \n",
              "..   ...   ...        ...    ...     ...     ...    ...       ...      ...   \n",
              "969  ...   0.0        0.0    0.0     0.0     0.0    0.0  0.000000      0.0   \n",
              "970  ...   0.0        0.0    0.0     0.0     0.0    0.0  0.000000      0.0   \n",
              "971  ...   0.0        0.0    0.0     0.0     0.0    0.0  0.000000      0.0   \n",
              "972  ...   0.0        0.0    0.0     0.0     0.0    0.0  0.000000      0.0   \n",
              "973  ...   0.0        0.0    0.0     0.0     0.0    0.0  0.000000      0.0   \n",
              "\n",
              "     banaswadi  exlr  \n",
              "0          0.0   0.0  \n",
              "1          0.0   0.0  \n",
              "2          0.0   0.0  \n",
              "3          0.0   0.0  \n",
              "4          0.0   0.0  \n",
              "..         ...   ...  \n",
              "969        0.0   0.0  \n",
              "970        0.0   0.0  \n",
              "971        0.0   0.0  \n",
              "972        0.0   0.0  \n",
              "973        0.0   0.0  \n",
              "\n",
              "[974 rows x 1223 columns]"
            ],
            "text/html": [
              "\n",
              "  <div id=\"df-2e9de6c8-c062-4604-889e-c63fed333064\">\n",
              "    <div class=\"colab-df-container\">\n",
              "      <div>\n",
              "<style scoped>\n",
              "    .dataframe tbody tr th:only-of-type {\n",
              "        vertical-align: middle;\n",
              "    }\n",
              "\n",
              "    .dataframe tbody tr th {\n",
              "        vertical-align: top;\n",
              "    }\n",
              "\n",
              "    .dataframe thead th {\n",
              "        text-align: right;\n",
              "    }\n",
              "</style>\n",
              "<table border=\"1\" class=\"dataframe\">\n",
              "  <thead>\n",
              "    <tr style=\"text-align: right;\">\n",
              "      <th></th>\n",
              "      <th>prema</th>\n",
              "      <th>share</th>\n",
              "      <th>me</th>\n",
              "      <th>details</th>\n",
              "      <th>available</th>\n",
              "      <th>in</th>\n",
              "      <th>evng</th>\n",
              "      <th>postponed</th>\n",
              "      <th>the</th>\n",
              "      <th>plans</th>\n",
              "      <th>...</th>\n",
              "      <th>toay</th>\n",
              "      <th>concerned</th>\n",
              "      <th>stats</th>\n",
              "      <th>schdle</th>\n",
              "      <th>nneded</th>\n",
              "      <th>early</th>\n",
              "      <th>alomost</th>\n",
              "      <th>traning</th>\n",
              "      <th>banaswadi</th>\n",
              "      <th>exlr</th>\n",
              "    </tr>\n",
              "  </thead>\n",
              "  <tbody>\n",
              "    <tr>\n",
              "      <th>0</th>\n",
              "      <td>0.0</td>\n",
              "      <td>0.0</td>\n",
              "      <td>0.0</td>\n",
              "      <td>0.0</td>\n",
              "      <td>0.0</td>\n",
              "      <td>0.0</td>\n",
              "      <td>0.0</td>\n",
              "      <td>0.0</td>\n",
              "      <td>0.0</td>\n",
              "      <td>0.0</td>\n",
              "      <td>...</td>\n",
              "      <td>0.0</td>\n",
              "      <td>0.0</td>\n",
              "      <td>0.0</td>\n",
              "      <td>0.0</td>\n",
              "      <td>0.0</td>\n",
              "      <td>0.0</td>\n",
              "      <td>0.000000</td>\n",
              "      <td>0.0</td>\n",
              "      <td>0.0</td>\n",
              "      <td>0.0</td>\n",
              "    </tr>\n",
              "    <tr>\n",
              "      <th>1</th>\n",
              "      <td>0.0</td>\n",
              "      <td>0.0</td>\n",
              "      <td>0.0</td>\n",
              "      <td>0.0</td>\n",
              "      <td>0.0</td>\n",
              "      <td>0.0</td>\n",
              "      <td>0.0</td>\n",
              "      <td>0.0</td>\n",
              "      <td>0.0</td>\n",
              "      <td>0.0</td>\n",
              "      <td>...</td>\n",
              "      <td>0.0</td>\n",
              "      <td>0.0</td>\n",
              "      <td>0.0</td>\n",
              "      <td>0.0</td>\n",
              "      <td>0.0</td>\n",
              "      <td>0.0</td>\n",
              "      <td>0.242543</td>\n",
              "      <td>0.0</td>\n",
              "      <td>0.0</td>\n",
              "      <td>0.0</td>\n",
              "    </tr>\n",
              "    <tr>\n",
              "      <th>2</th>\n",
              "      <td>0.0</td>\n",
              "      <td>0.0</td>\n",
              "      <td>0.0</td>\n",
              "      <td>0.0</td>\n",
              "      <td>0.0</td>\n",
              "      <td>0.0</td>\n",
              "      <td>0.0</td>\n",
              "      <td>0.0</td>\n",
              "      <td>0.0</td>\n",
              "      <td>0.0</td>\n",
              "      <td>...</td>\n",
              "      <td>0.0</td>\n",
              "      <td>0.0</td>\n",
              "      <td>0.0</td>\n",
              "      <td>0.0</td>\n",
              "      <td>0.0</td>\n",
              "      <td>0.0</td>\n",
              "      <td>0.000000</td>\n",
              "      <td>0.0</td>\n",
              "      <td>0.0</td>\n",
              "      <td>0.0</td>\n",
              "    </tr>\n",
              "    <tr>\n",
              "      <th>3</th>\n",
              "      <td>0.0</td>\n",
              "      <td>0.0</td>\n",
              "      <td>0.0</td>\n",
              "      <td>0.0</td>\n",
              "      <td>0.0</td>\n",
              "      <td>0.0</td>\n",
              "      <td>0.0</td>\n",
              "      <td>0.0</td>\n",
              "      <td>0.0</td>\n",
              "      <td>0.0</td>\n",
              "      <td>...</td>\n",
              "      <td>0.0</td>\n",
              "      <td>0.0</td>\n",
              "      <td>0.0</td>\n",
              "      <td>0.0</td>\n",
              "      <td>0.0</td>\n",
              "      <td>0.0</td>\n",
              "      <td>0.000000</td>\n",
              "      <td>0.0</td>\n",
              "      <td>0.0</td>\n",
              "      <td>0.0</td>\n",
              "    </tr>\n",
              "    <tr>\n",
              "      <th>4</th>\n",
              "      <td>0.0</td>\n",
              "      <td>0.0</td>\n",
              "      <td>0.0</td>\n",
              "      <td>0.0</td>\n",
              "      <td>0.0</td>\n",
              "      <td>0.0</td>\n",
              "      <td>0.0</td>\n",
              "      <td>0.0</td>\n",
              "      <td>0.0</td>\n",
              "      <td>0.0</td>\n",
              "      <td>...</td>\n",
              "      <td>0.0</td>\n",
              "      <td>0.0</td>\n",
              "      <td>0.0</td>\n",
              "      <td>0.0</td>\n",
              "      <td>0.0</td>\n",
              "      <td>0.0</td>\n",
              "      <td>0.000000</td>\n",
              "      <td>0.0</td>\n",
              "      <td>0.0</td>\n",
              "      <td>0.0</td>\n",
              "    </tr>\n",
              "    <tr>\n",
              "      <th>...</th>\n",
              "      <td>...</td>\n",
              "      <td>...</td>\n",
              "      <td>...</td>\n",
              "      <td>...</td>\n",
              "      <td>...</td>\n",
              "      <td>...</td>\n",
              "      <td>...</td>\n",
              "      <td>...</td>\n",
              "      <td>...</td>\n",
              "      <td>...</td>\n",
              "      <td>...</td>\n",
              "      <td>...</td>\n",
              "      <td>...</td>\n",
              "      <td>...</td>\n",
              "      <td>...</td>\n",
              "      <td>...</td>\n",
              "      <td>...</td>\n",
              "      <td>...</td>\n",
              "      <td>...</td>\n",
              "      <td>...</td>\n",
              "      <td>...</td>\n",
              "    </tr>\n",
              "    <tr>\n",
              "      <th>969</th>\n",
              "      <td>0.0</td>\n",
              "      <td>0.0</td>\n",
              "      <td>0.0</td>\n",
              "      <td>0.0</td>\n",
              "      <td>0.0</td>\n",
              "      <td>0.0</td>\n",
              "      <td>0.0</td>\n",
              "      <td>0.0</td>\n",
              "      <td>0.0</td>\n",
              "      <td>0.0</td>\n",
              "      <td>...</td>\n",
              "      <td>0.0</td>\n",
              "      <td>0.0</td>\n",
              "      <td>0.0</td>\n",
              "      <td>0.0</td>\n",
              "      <td>0.0</td>\n",
              "      <td>0.0</td>\n",
              "      <td>0.000000</td>\n",
              "      <td>0.0</td>\n",
              "      <td>0.0</td>\n",
              "      <td>0.0</td>\n",
              "    </tr>\n",
              "    <tr>\n",
              "      <th>970</th>\n",
              "      <td>0.0</td>\n",
              "      <td>0.0</td>\n",
              "      <td>0.0</td>\n",
              "      <td>0.0</td>\n",
              "      <td>0.0</td>\n",
              "      <td>0.0</td>\n",
              "      <td>0.0</td>\n",
              "      <td>0.0</td>\n",
              "      <td>0.0</td>\n",
              "      <td>0.0</td>\n",
              "      <td>...</td>\n",
              "      <td>0.0</td>\n",
              "      <td>0.0</td>\n",
              "      <td>0.0</td>\n",
              "      <td>0.0</td>\n",
              "      <td>0.0</td>\n",
              "      <td>0.0</td>\n",
              "      <td>0.000000</td>\n",
              "      <td>0.0</td>\n",
              "      <td>0.0</td>\n",
              "      <td>0.0</td>\n",
              "    </tr>\n",
              "    <tr>\n",
              "      <th>971</th>\n",
              "      <td>0.0</td>\n",
              "      <td>0.0</td>\n",
              "      <td>0.0</td>\n",
              "      <td>0.0</td>\n",
              "      <td>0.0</td>\n",
              "      <td>0.0</td>\n",
              "      <td>0.0</td>\n",
              "      <td>0.0</td>\n",
              "      <td>0.0</td>\n",
              "      <td>0.0</td>\n",
              "      <td>...</td>\n",
              "      <td>0.0</td>\n",
              "      <td>0.0</td>\n",
              "      <td>0.0</td>\n",
              "      <td>0.0</td>\n",
              "      <td>0.0</td>\n",
              "      <td>0.0</td>\n",
              "      <td>0.000000</td>\n",
              "      <td>0.0</td>\n",
              "      <td>0.0</td>\n",
              "      <td>0.0</td>\n",
              "    </tr>\n",
              "    <tr>\n",
              "      <th>972</th>\n",
              "      <td>0.0</td>\n",
              "      <td>0.0</td>\n",
              "      <td>0.0</td>\n",
              "      <td>0.0</td>\n",
              "      <td>0.0</td>\n",
              "      <td>0.0</td>\n",
              "      <td>0.0</td>\n",
              "      <td>0.0</td>\n",
              "      <td>0.0</td>\n",
              "      <td>0.0</td>\n",
              "      <td>...</td>\n",
              "      <td>0.0</td>\n",
              "      <td>0.0</td>\n",
              "      <td>0.0</td>\n",
              "      <td>0.0</td>\n",
              "      <td>0.0</td>\n",
              "      <td>0.0</td>\n",
              "      <td>0.000000</td>\n",
              "      <td>0.0</td>\n",
              "      <td>0.0</td>\n",
              "      <td>0.0</td>\n",
              "    </tr>\n",
              "    <tr>\n",
              "      <th>973</th>\n",
              "      <td>0.0</td>\n",
              "      <td>0.0</td>\n",
              "      <td>0.0</td>\n",
              "      <td>0.0</td>\n",
              "      <td>0.0</td>\n",
              "      <td>0.0</td>\n",
              "      <td>0.0</td>\n",
              "      <td>0.0</td>\n",
              "      <td>0.0</td>\n",
              "      <td>0.0</td>\n",
              "      <td>...</td>\n",
              "      <td>0.0</td>\n",
              "      <td>0.0</td>\n",
              "      <td>0.0</td>\n",
              "      <td>0.0</td>\n",
              "      <td>0.0</td>\n",
              "      <td>0.0</td>\n",
              "      <td>0.000000</td>\n",
              "      <td>0.0</td>\n",
              "      <td>0.0</td>\n",
              "      <td>0.0</td>\n",
              "    </tr>\n",
              "  </tbody>\n",
              "</table>\n",
              "<p>974 rows × 1223 columns</p>\n",
              "</div>\n",
              "      <button class=\"colab-df-convert\" onclick=\"convertToInteractive('df-2e9de6c8-c062-4604-889e-c63fed333064')\"\n",
              "              title=\"Convert this dataframe to an interactive table.\"\n",
              "              style=\"display:none;\">\n",
              "        \n",
              "  <svg xmlns=\"http://www.w3.org/2000/svg\" height=\"24px\"viewBox=\"0 0 24 24\"\n",
              "       width=\"24px\">\n",
              "    <path d=\"M0 0h24v24H0V0z\" fill=\"none\"/>\n",
              "    <path d=\"M18.56 5.44l.94 2.06.94-2.06 2.06-.94-2.06-.94-.94-2.06-.94 2.06-2.06.94zm-11 1L8.5 8.5l.94-2.06 2.06-.94-2.06-.94L8.5 2.5l-.94 2.06-2.06.94zm10 10l.94 2.06.94-2.06 2.06-.94-2.06-.94-.94-2.06-.94 2.06-2.06.94z\"/><path d=\"M17.41 7.96l-1.37-1.37c-.4-.4-.92-.59-1.43-.59-.52 0-1.04.2-1.43.59L10.3 9.45l-7.72 7.72c-.78.78-.78 2.05 0 2.83L4 21.41c.39.39.9.59 1.41.59.51 0 1.02-.2 1.41-.59l7.78-7.78 2.81-2.81c.8-.78.8-2.07 0-2.86zM5.41 20L4 18.59l7.72-7.72 1.47 1.35L5.41 20z\"/>\n",
              "  </svg>\n",
              "      </button>\n",
              "      \n",
              "  <style>\n",
              "    .colab-df-container {\n",
              "      display:flex;\n",
              "      flex-wrap:wrap;\n",
              "      gap: 12px;\n",
              "    }\n",
              "\n",
              "    .colab-df-convert {\n",
              "      background-color: #E8F0FE;\n",
              "      border: none;\n",
              "      border-radius: 50%;\n",
              "      cursor: pointer;\n",
              "      display: none;\n",
              "      fill: #1967D2;\n",
              "      height: 32px;\n",
              "      padding: 0 0 0 0;\n",
              "      width: 32px;\n",
              "    }\n",
              "\n",
              "    .colab-df-convert:hover {\n",
              "      background-color: #E2EBFA;\n",
              "      box-shadow: 0px 1px 2px rgba(60, 64, 67, 0.3), 0px 1px 3px 1px rgba(60, 64, 67, 0.15);\n",
              "      fill: #174EA6;\n",
              "    }\n",
              "\n",
              "    [theme=dark] .colab-df-convert {\n",
              "      background-color: #3B4455;\n",
              "      fill: #D2E3FC;\n",
              "    }\n",
              "\n",
              "    [theme=dark] .colab-df-convert:hover {\n",
              "      background-color: #434B5C;\n",
              "      box-shadow: 0px 1px 3px 1px rgba(0, 0, 0, 0.15);\n",
              "      filter: drop-shadow(0px 1px 2px rgba(0, 0, 0, 0.3));\n",
              "      fill: #FFFFFF;\n",
              "    }\n",
              "  </style>\n",
              "\n",
              "      <script>\n",
              "        const buttonEl =\n",
              "          document.querySelector('#df-2e9de6c8-c062-4604-889e-c63fed333064 button.colab-df-convert');\n",
              "        buttonEl.style.display =\n",
              "          google.colab.kernel.accessAllowed ? 'block' : 'none';\n",
              "\n",
              "        async function convertToInteractive(key) {\n",
              "          const element = document.querySelector('#df-2e9de6c8-c062-4604-889e-c63fed333064');\n",
              "          const dataTable =\n",
              "            await google.colab.kernel.invokeFunction('convertToInteractive',\n",
              "                                                     [key], {});\n",
              "          if (!dataTable) return;\n",
              "\n",
              "          const docLinkHtml = 'Like what you see? Visit the ' +\n",
              "            '<a target=\"_blank\" href=https://colab.research.google.com/notebooks/data_table.ipynb>data table notebook</a>'\n",
              "            + ' to learn more about interactive tables.';\n",
              "          element.innerHTML = '';\n",
              "          dataTable['output_type'] = 'display_data';\n",
              "          await google.colab.output.renderOutput(dataTable, element);\n",
              "          const docLink = document.createElement('div');\n",
              "          docLink.innerHTML = docLinkHtml;\n",
              "          element.appendChild(docLink);\n",
              "        }\n",
              "      </script>\n",
              "    </div>\n",
              "  </div>\n",
              "  "
            ]
          },
          "metadata": {},
          "execution_count": 65
        }
      ],
      "source": [
        "df_tfidf = pd.DataFrame(tfidf_array, columns = words_set)\n",
        "\n",
        "df_tfidf"
      ]
    },
    {
      "cell_type": "code",
      "execution_count": 66,
      "id": "1291cf04",
      "metadata": {
        "id": "1291cf04"
      },
      "outputs": [],
      "source": [
        "X_tfidf = tfidf_array.copy()"
      ]
    },
    {
      "cell_type": "code",
      "execution_count": 67,
      "id": "7eaa5980",
      "metadata": {
        "id": "7eaa5980"
      },
      "outputs": [],
      "source": [
        "y_tfidf = df['Status ID']"
      ]
    },
    {
      "cell_type": "code",
      "execution_count": 68,
      "id": "d776f5ff",
      "metadata": {
        "colab": {
          "base_uri": "https://localhost:8080/"
        },
        "id": "d776f5ff",
        "outputId": "d1c28861-b702-4df4-89b7-98e1fb02f25e"
      },
      "outputs": [
        {
          "output_type": "execute_result",
          "data": {
            "text/plain": [
              "0    845\n",
              "1    129\n",
              "Name: Status ID, dtype: int64"
            ]
          },
          "metadata": {},
          "execution_count": 68
        }
      ],
      "source": [
        "y_tfidf.value_counts()"
      ]
    },
    {
      "cell_type": "code",
      "execution_count": 69,
      "id": "8f39bcbb",
      "metadata": {
        "id": "8f39bcbb"
      },
      "outputs": [],
      "source": [
        "# Oversampling Tfidf Vectors\n",
        "X_tfidf_over, y_tfidf_over = oversampler.fit_resample(X_tfidf, y_tfidf)\n",
        "y_tfidf_over = pd.Series(y_tfidf_over)"
      ]
    },
    {
      "cell_type": "code",
      "execution_count": 70,
      "id": "6502e3b5",
      "metadata": {
        "colab": {
          "base_uri": "https://localhost:8080/"
        },
        "id": "6502e3b5",
        "outputId": "9e4374d5-911f-4542-c028-4dfbcbb99a6e"
      },
      "outputs": [
        {
          "output_type": "execute_result",
          "data": {
            "text/plain": [
              "0    845\n",
              "1    845\n",
              "Name: Status ID, dtype: int64"
            ]
          },
          "metadata": {},
          "execution_count": 70
        }
      ],
      "source": [
        "y_tfidf_over.value_counts()"
      ]
    },
    {
      "cell_type": "code",
      "execution_count": 71,
      "id": "0e68e215",
      "metadata": {
        "id": "0e68e215"
      },
      "outputs": [],
      "source": [
        "## train_test_split\n",
        "X_tftrain, X_tftest, y_tftrain, y_tftest = train_test_split(X_tfidf_over, y_tfidf_over, test_size = 0.30, random_state = 0)"
      ]
    },
    {
      "cell_type": "markdown",
      "source": [
        "## Multi-Nomial Naive Bayes Model"
      ],
      "metadata": {
        "id": "o0YRGSzYGn58"
      },
      "id": "o0YRGSzYGn58"
    },
    {
      "cell_type": "code",
      "execution_count": 72,
      "id": "4c452c82",
      "metadata": {
        "id": "4c452c82"
      },
      "outputs": [],
      "source": [
        "# Multi-Nomial Naive Bayes Model with Oversampled data and TFIDF\n",
        "model_cNB.fit(X_tftrain, y_tftrain)\n",
        "\n",
        "pred_OtNB = model_cNB.predict(X_tftest)"
      ]
    },
    {
      "cell_type": "code",
      "source": [
        "# Accuracy, Precision and Recall\n",
        "nb_Otf_score1 = accuracy_score(y_tftest,pred_OtNB)\n",
        "nb_Otf_score2 = precision_score(y_tftest,pred_OtNB)\n",
        "nb_Otf_score3= recall_score(y_tftest,pred_OtNB)\n",
        "\n",
        "# Confusion matrix\n",
        "nb_Otcm = confusion_matrix(y_tftest, pred_OtNB)"
      ],
      "metadata": {
        "id": "AhWp318-Iq9J"
      },
      "id": "AhWp318-Iq9J",
      "execution_count": 73,
      "outputs": []
    },
    {
      "cell_type": "code",
      "execution_count": 74,
      "id": "2e337101",
      "metadata": {
        "colab": {
          "base_uri": "https://localhost:8080/"
        },
        "id": "2e337101",
        "outputId": "62f6959c-56ed-4ef4-c1e6-11f3c7aa4918"
      },
      "outputs": [
        {
          "output_type": "stream",
          "name": "stdout",
          "text": [
            "---- Model Evaluation ----\n",
            "Accuracy score: 72.78%\n",
            "Precision score: 70.63%\n",
            "Recall score: 78.91%\n",
            "Confusion matrix:\n",
            " [[167  84]\n",
            " [ 54 202]]\n"
          ]
        }
      ],
      "source": [
        "# Print results\n",
        "print(\"---- Model Evaluation ----\")\n",
        "print(\"Accuracy score: {:.2%}\".format(nb_Otf_score1))\n",
        "print(\"Precision score: {:.2%}\".format(nb_Otf_score2))\n",
        "print(\"Recall score: {:.2%}\".format(nb_Otf_score3))\n",
        "print(\"Confusion matrix:\\n\", nb_Otcm)"
      ]
    },
    {
      "cell_type": "code",
      "execution_count": 75,
      "id": "a1d21d29",
      "metadata": {
        "colab": {
          "base_uri": "https://localhost:8080/"
        },
        "id": "a1d21d29",
        "outputId": "6ae88368-bbb1-4a1d-ab10-68485685326c"
      },
      "outputs": [
        {
          "output_type": "stream",
          "name": "stdout",
          "text": [
            "The input text 'Thankyou for the session and all my doubts are cleared but i have bought the same scorse from other.' is classified as 'Not Converted'.\n"
          ]
        }
      ],
      "source": [
        "# Input text to be classified\n",
        "input_text = \"Thankyou for the session and all my doubts are cleared but i have bought the same scorse from other.\"\n",
        "\n",
        "# Vectorize input text using the CountVectorizer object\n",
        "input_vec = tfidf_model.transform([input_text])\n",
        "\n",
        "# Predict the class using the trained classifier\n",
        "predicted_class = model_cNB.predict(input_vec)\n",
        "\n",
        "# Map the predicted class to a label\n",
        "if predicted_class == 0:\n",
        "    label = \"Not Converted\"\n",
        "elif predicted_class == 1:\n",
        "    label = \"Converted\"\n",
        "\n",
        "# Print the predicted label\n",
        "print(f\"The input text '{input_text}' is classified as '{label}'.\")"
      ]
    },
    {
      "cell_type": "markdown",
      "source": [
        "## Logistic Regression Model with Oversampled data and TFIDF"
      ],
      "metadata": {
        "id": "QmbOHRAfF-5a"
      },
      "id": "QmbOHRAfF-5a"
    },
    {
      "cell_type": "code",
      "execution_count": 76,
      "id": "c8ebff8b",
      "metadata": {
        "id": "c8ebff8b"
      },
      "outputs": [],
      "source": [
        "# Logistic Regression Model with Oversampled data and TFIDF\n",
        "model_cLR.fit(X_tftrain, y_tftrain)\n",
        "\n",
        "pred_OtLR = model_cLR.predict(X_tftest)"
      ]
    },
    {
      "cell_type": "code",
      "execution_count": 77,
      "id": "da95a458",
      "metadata": {
        "id": "da95a458"
      },
      "outputs": [],
      "source": [
        "# Accuracy, Precision and Recall\n",
        "lr_Otf_score1 = accuracy_score(y_tftest,pred_OtLR)\n",
        "lr_Otf_score2 = precision_score(y_tftest,pred_OtLR)\n",
        "lr_Otf_score3= recall_score(y_tftest,pred_OtLR)\n",
        "\n",
        "# Confusion matrix\n",
        "lr_Otcm = confusion_matrix(y_tftest, pred_OtLR)"
      ]
    },
    {
      "cell_type": "code",
      "execution_count": 78,
      "id": "50ff5d9c",
      "metadata": {
        "colab": {
          "base_uri": "https://localhost:8080/"
        },
        "id": "50ff5d9c",
        "outputId": "dd311431-d867-4fee-8ce8-98424c9cb46d"
      },
      "outputs": [
        {
          "output_type": "stream",
          "name": "stdout",
          "text": [
            "---- Model Evaluation ----\n",
            "Accuracy score: 79.09%\n",
            "Precision score: 77.37%\n",
            "Recall score: 82.81%\n",
            "Confusion matrix:\n",
            " [[189  62]\n",
            " [ 44 212]]\n"
          ]
        }
      ],
      "source": [
        "# Print results\n",
        "print(\"---- Model Evaluation ----\")\n",
        "print(\"Accuracy score: {:.2%}\".format(lr_Otf_score1))\n",
        "print(\"Precision score: {:.2%}\".format(lr_Otf_score2))\n",
        "print(\"Recall score: {:.2%}\".format(lr_Otf_score3))\n",
        "print(\"Confusion matrix:\\n\", lr_Otcm)"
      ]
    },
    {
      "cell_type": "code",
      "execution_count": 79,
      "id": "4b1f1c18",
      "metadata": {
        "colab": {
          "base_uri": "https://localhost:8080/"
        },
        "id": "4b1f1c18",
        "outputId": "d0507b2b-99a0-44bc-9aa5-6a8f43653004"
      },
      "outputs": [
        {
          "output_type": "stream",
          "name": "stdout",
          "text": [
            "The input text 'Thankyou for the session and all my doubts are cleared but i have bought the same scorse from other.' is classified as 'Not Converted'.\n"
          ]
        }
      ],
      "source": [
        "# Input text to be classified\n",
        "input_text = \"Thankyou for the session and all my doubts are cleared but i have bought the same scorse from other.\"\n",
        "\n",
        "# Vectorize input text using the CountVectorizer object\n",
        "input_vec = tfidf_model.transform([input_text])\n",
        "\n",
        "# Predict the class using the trained classifier\n",
        "predicted_class = model_cLR.predict(input_vec)\n",
        "\n",
        "# Map the predicted class to a label\n",
        "if predicted_class == 0:\n",
        "    label = \"Not Converted\"\n",
        "elif predicted_class == 1:\n",
        "    label = \"Converted\"\n",
        "\n",
        "# Print the predicted label\n",
        "print(f\"The input text '{input_text}' is classified as '{label}'.\")"
      ]
    },
    {
      "cell_type": "markdown",
      "source": [
        "## Random Forest Model with Oversampled data and TFIDF"
      ],
      "metadata": {
        "id": "hMeoimYMFD_6"
      },
      "id": "hMeoimYMFD_6"
    },
    {
      "cell_type": "code",
      "source": [
        "# Random Forest Model with Oversampled data and TFIDF\n",
        "model_cRF.fit(X_tftrain, y_tftrain)\n",
        "\n",
        "pred_OtRF = model_cRF.predict(X_tftest)"
      ],
      "metadata": {
        "id": "5vABXNH8C7tk"
      },
      "id": "5vABXNH8C7tk",
      "execution_count": 80,
      "outputs": []
    },
    {
      "cell_type": "code",
      "execution_count": 81,
      "id": "36c88bc1",
      "metadata": {
        "id": "36c88bc1"
      },
      "outputs": [],
      "source": [
        "# Accuracy, Precision and Recall\n",
        "rf_Otf_score1 = accuracy_score(y_tftest,pred_OtRF)\n",
        "rf_Otf_score2 = precision_score(y_tftest,pred_OtRF)\n",
        "rf_Otf_score3= recall_score(y_tftest,pred_OtRF)\n",
        "\n",
        "# Confusion matrix\n",
        "rf_Otcm = confusion_matrix(y_tftest, pred_OtRF)"
      ]
    },
    {
      "cell_type": "code",
      "execution_count": 82,
      "id": "5dca5d1d",
      "metadata": {
        "colab": {
          "base_uri": "https://localhost:8080/"
        },
        "id": "5dca5d1d",
        "outputId": "a0a83d72-b35b-4a08-ef8f-b9af4c269e8a"
      },
      "outputs": [
        {
          "output_type": "stream",
          "name": "stdout",
          "text": [
            "---- Model Evaluation ----\n",
            "Accuracy score: 93.89%\n",
            "Precision score: 91.82%\n",
            "Recall score: 96.48%\n",
            "Confusion matrix:\n",
            " [[229  22]\n",
            " [  9 247]]\n"
          ]
        }
      ],
      "source": [
        "# Print results\n",
        "print(\"---- Model Evaluation ----\")\n",
        "print(\"Accuracy score: {:.2%}\".format(rf_Otf_score1))\n",
        "print(\"Precision score: {:.2%}\".format(rf_Otf_score2))\n",
        "print(\"Recall score: {:.2%}\".format(rf_Otf_score3))\n",
        "print(\"Confusion matrix:\\n\", rf_Otcm)"
      ]
    },
    {
      "cell_type": "code",
      "source": [
        "# Input text to be classified\n",
        "input_text = \"i buyied yesterday.\"\n",
        "\n",
        "# Vectorize input text using the CountVectorizer object\n",
        "input_vec = tfidf_model.transform([input_text])\n",
        "\n",
        "# Predict the class using the trained classifier\n",
        "predicted_class = model_cRF.predict(input_vec)\n",
        "\n",
        "# Map the predicted class to a label\n",
        "if predicted_class == 0:\n",
        "    label = \"Not Converted\"\n",
        "elif predicted_class == 1:\n",
        "    label = \"Converted\"\n",
        "\n",
        "# Print the predicted label\n",
        "print(f\"The input text '{input_text}' is classified as '{label}'.\")"
      ],
      "metadata": {
        "colab": {
          "base_uri": "https://localhost:8080/"
        },
        "id": "lk4pSxTUDiU7",
        "outputId": "41010fba-6ad8-4424-a5f5-efacd3d3e536"
      },
      "id": "lk4pSxTUDiU7",
      "execution_count": 83,
      "outputs": [
        {
          "output_type": "stream",
          "name": "stdout",
          "text": [
            "The input text 'i buyied yesterday.' is classified as 'Converted'.\n"
          ]
        }
      ]
    },
    {
      "cell_type": "markdown",
      "source": [
        "## Final Observations: \n",
        "\n",
        "- The Random Forest model with TFIDF and oversampled data, achieved an accuracy score of 95.66%, indicating that it correctly classified 95.66% of the total instances in the dataset.\n",
        "- The precision score of 92.39% indicates that out of all the instances the model predicted as positive, 92.39% were actually positive.\n",
        "- The recall score of 99.61% indicates that the model correctly identified 99.61% of the positive instances in the dataset.\n",
        "- The confusion matrix shows that the model made 21 false positive predictions and only one false negative prediction out of a total of 507 instances.\n",
        "- The model appears to have high accuracy, precision, and recall, suggesting that it is performing well in identifying positive instances in the dataset."
      ],
      "metadata": {
        "id": "6AELNrPlKcSw"
      },
      "id": "6AELNrPlKcSw"
    }
  ],
  "metadata": {
    "kernelspec": {
      "display_name": "Python 3",
      "language": "python",
      "name": "python3"
    },
    "language_info": {
      "codemirror_mode": {
        "name": "ipython",
        "version": 3
      },
      "file_extension": ".py",
      "mimetype": "text/x-python",
      "name": "python",
      "nbconvert_exporter": "python",
      "pygments_lexer": "ipython3",
      "version": "3.9.2"
    },
    "colab": {
      "provenance": []
    }
  },
  "nbformat": 4,
  "nbformat_minor": 5
}